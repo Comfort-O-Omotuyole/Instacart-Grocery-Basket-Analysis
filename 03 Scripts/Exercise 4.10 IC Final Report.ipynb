{
 "cells": [
  {
   "cell_type": "markdown",
   "id": "0797538d",
   "metadata": {},
   "source": [
    "# IC Final Report"
   ]
  },
  {
   "cell_type": "markdown",
   "id": "83b623f7",
   "metadata": {},
   "source": [
    "## This notebook contains the following topics:\n",
    "\n",
    "### 01. Import Libraries and Files\n",
    "### 02. Personally identifiable information (PII)\n",
    "### 03. Regional Sementation of Data\n",
    "### 04. Exclusion flag for low-activity customers\n",
    "### 05. Profiling Customer\n",
    "### 06. Aggregating the max, mean, and min variables on a customer-profile level for usage frequency and expenditure.\n",
    "### 07. Comparing profiles with regions\n",
    "### 08. Exporting df_cop as pickle file"
   ]
  },
  {
   "cell_type": "markdown",
   "id": "9d0e55f2",
   "metadata": {},
   "source": [
    "# 01. Import Libraries and Files"
   ]
  },
  {
   "cell_type": "code",
   "execution_count": 1,
   "id": "ba7bb112",
   "metadata": {},
   "outputs": [
    {
     "name": "stderr",
     "output_type": "stream",
     "text": [
      "Matplotlib is building the font cache; this may take a moment.\n"
     ]
    }
   ],
   "source": [
    "import pandas as pd\n",
    "import numpy as np\n",
    "import os\n",
    "import matplotlib.pyplot as plt\n",
    "import seaborn as sns\n",
    "import scipy"
   ]
  },
  {
   "cell_type": "code",
   "execution_count": 2,
   "id": "a45b0d50",
   "metadata": {},
   "outputs": [],
   "source": [
    "# Create folder path\n",
    "path = r'C:\\Users\\olufunsoo\\Desktop\\CareerFoundry Documents'"
   ]
  },
  {
   "cell_type": "code",
   "execution_count": 3,
   "id": "74579cd7",
   "metadata": {},
   "outputs": [],
   "source": [
    "# Import merged file as df_cop\n",
    "df_cop = pd.read_pickle(os.path.join(path, '02 Data', 'Prepared Data', 'customers_orders_products.pkl'))"
   ]
  },
  {
   "cell_type": "code",
   "execution_count": 4,
   "id": "d36888f9",
   "metadata": {},
   "outputs": [
    {
     "data": {
      "text/html": [
       "<div>\n",
       "<style scoped>\n",
       "    .dataframe tbody tr th:only-of-type {\n",
       "        vertical-align: middle;\n",
       "    }\n",
       "\n",
       "    .dataframe tbody tr th {\n",
       "        vertical-align: top;\n",
       "    }\n",
       "\n",
       "    .dataframe thead th {\n",
       "        text-align: right;\n",
       "    }\n",
       "</style>\n",
       "<table border=\"1\" class=\"dataframe\">\n",
       "  <thead>\n",
       "    <tr style=\"text-align: right;\">\n",
       "      <th></th>\n",
       "      <th>user_id</th>\n",
       "      <th>First Name</th>\n",
       "      <th>Surname</th>\n",
       "      <th>Gender</th>\n",
       "      <th>STATE</th>\n",
       "      <th>Age</th>\n",
       "      <th>date_joined</th>\n",
       "      <th>number_of_dependants</th>\n",
       "      <th>family_status</th>\n",
       "      <th>income</th>\n",
       "      <th>...</th>\n",
       "      <th>prices</th>\n",
       "      <th>busiest_days</th>\n",
       "      <th>busiest_period_of_day</th>\n",
       "      <th>max_order</th>\n",
       "      <th>loyalty_flag</th>\n",
       "      <th>mean_prices</th>\n",
       "      <th>spending_flag</th>\n",
       "      <th>median_prior_order</th>\n",
       "      <th>order_frequency_flag</th>\n",
       "      <th>_merge</th>\n",
       "    </tr>\n",
       "  </thead>\n",
       "  <tbody>\n",
       "    <tr>\n",
       "      <th>0</th>\n",
       "      <td>26711</td>\n",
       "      <td>Deborah</td>\n",
       "      <td>Esquivel</td>\n",
       "      <td>Female</td>\n",
       "      <td>Missouri</td>\n",
       "      <td>48</td>\n",
       "      <td>1/1/2017</td>\n",
       "      <td>3</td>\n",
       "      <td>married</td>\n",
       "      <td>165665</td>\n",
       "      <td>...</td>\n",
       "      <td>9.0</td>\n",
       "      <td>Busiest day 2</td>\n",
       "      <td>Most orders</td>\n",
       "      <td>8</td>\n",
       "      <td>New customer</td>\n",
       "      <td>7.988889</td>\n",
       "      <td>Low spender</td>\n",
       "      <td>19.0</td>\n",
       "      <td>Regular customer</td>\n",
       "      <td>both</td>\n",
       "    </tr>\n",
       "    <tr>\n",
       "      <th>1</th>\n",
       "      <td>26711</td>\n",
       "      <td>Deborah</td>\n",
       "      <td>Esquivel</td>\n",
       "      <td>Female</td>\n",
       "      <td>Missouri</td>\n",
       "      <td>48</td>\n",
       "      <td>1/1/2017</td>\n",
       "      <td>3</td>\n",
       "      <td>married</td>\n",
       "      <td>165665</td>\n",
       "      <td>...</td>\n",
       "      <td>9.0</td>\n",
       "      <td>Regularly busy</td>\n",
       "      <td>Most orders</td>\n",
       "      <td>8</td>\n",
       "      <td>New customer</td>\n",
       "      <td>7.988889</td>\n",
       "      <td>Low spender</td>\n",
       "      <td>19.0</td>\n",
       "      <td>Regular customer</td>\n",
       "      <td>both</td>\n",
       "    </tr>\n",
       "    <tr>\n",
       "      <th>2</th>\n",
       "      <td>26711</td>\n",
       "      <td>Deborah</td>\n",
       "      <td>Esquivel</td>\n",
       "      <td>Female</td>\n",
       "      <td>Missouri</td>\n",
       "      <td>48</td>\n",
       "      <td>1/1/2017</td>\n",
       "      <td>3</td>\n",
       "      <td>married</td>\n",
       "      <td>165665</td>\n",
       "      <td>...</td>\n",
       "      <td>9.0</td>\n",
       "      <td>Busiest day 2</td>\n",
       "      <td>Most orders</td>\n",
       "      <td>8</td>\n",
       "      <td>New customer</td>\n",
       "      <td>7.988889</td>\n",
       "      <td>Low spender</td>\n",
       "      <td>19.0</td>\n",
       "      <td>Regular customer</td>\n",
       "      <td>both</td>\n",
       "    </tr>\n",
       "    <tr>\n",
       "      <th>3</th>\n",
       "      <td>26711</td>\n",
       "      <td>Deborah</td>\n",
       "      <td>Esquivel</td>\n",
       "      <td>Female</td>\n",
       "      <td>Missouri</td>\n",
       "      <td>48</td>\n",
       "      <td>1/1/2017</td>\n",
       "      <td>3</td>\n",
       "      <td>married</td>\n",
       "      <td>165665</td>\n",
       "      <td>...</td>\n",
       "      <td>12.6</td>\n",
       "      <td>Regularly busy</td>\n",
       "      <td>Most orders</td>\n",
       "      <td>8</td>\n",
       "      <td>New customer</td>\n",
       "      <td>7.988889</td>\n",
       "      <td>Low spender</td>\n",
       "      <td>19.0</td>\n",
       "      <td>Regular customer</td>\n",
       "      <td>both</td>\n",
       "    </tr>\n",
       "    <tr>\n",
       "      <th>4</th>\n",
       "      <td>26711</td>\n",
       "      <td>Deborah</td>\n",
       "      <td>Esquivel</td>\n",
       "      <td>Female</td>\n",
       "      <td>Missouri</td>\n",
       "      <td>48</td>\n",
       "      <td>1/1/2017</td>\n",
       "      <td>3</td>\n",
       "      <td>married</td>\n",
       "      <td>165665</td>\n",
       "      <td>...</td>\n",
       "      <td>12.6</td>\n",
       "      <td>Least busy 2</td>\n",
       "      <td>Most orders</td>\n",
       "      <td>8</td>\n",
       "      <td>New customer</td>\n",
       "      <td>7.988889</td>\n",
       "      <td>Low spender</td>\n",
       "      <td>19.0</td>\n",
       "      <td>Regular customer</td>\n",
       "      <td>both</td>\n",
       "    </tr>\n",
       "  </tbody>\n",
       "</table>\n",
       "<p>5 rows × 28 columns</p>\n",
       "</div>"
      ],
      "text/plain": [
       "  user_id First Name   Surname  Gender     STATE  Age date_joined  \\\n",
       "0   26711    Deborah  Esquivel  Female  Missouri   48    1/1/2017   \n",
       "1   26711    Deborah  Esquivel  Female  Missouri   48    1/1/2017   \n",
       "2   26711    Deborah  Esquivel  Female  Missouri   48    1/1/2017   \n",
       "3   26711    Deborah  Esquivel  Female  Missouri   48    1/1/2017   \n",
       "4   26711    Deborah  Esquivel  Female  Missouri   48    1/1/2017   \n",
       "\n",
       "   number_of_dependants family_status  income  ...  prices    busiest_days  \\\n",
       "0                     3       married  165665  ...     9.0   Busiest day 2   \n",
       "1                     3       married  165665  ...     9.0  Regularly busy   \n",
       "2                     3       married  165665  ...     9.0   Busiest day 2   \n",
       "3                     3       married  165665  ...    12.6  Regularly busy   \n",
       "4                     3       married  165665  ...    12.6    Least busy 2   \n",
       "\n",
       "   busiest_period_of_day  max_order  loyalty_flag  mean_prices spending_flag  \\\n",
       "0            Most orders          8  New customer     7.988889   Low spender   \n",
       "1            Most orders          8  New customer     7.988889   Low spender   \n",
       "2            Most orders          8  New customer     7.988889   Low spender   \n",
       "3            Most orders          8  New customer     7.988889   Low spender   \n",
       "4            Most orders          8  New customer     7.988889   Low spender   \n",
       "\n",
       "   median_prior_order  order_frequency_flag _merge  \n",
       "0                19.0      Regular customer   both  \n",
       "1                19.0      Regular customer   both  \n",
       "2                19.0      Regular customer   both  \n",
       "3                19.0      Regular customer   both  \n",
       "4                19.0      Regular customer   both  \n",
       "\n",
       "[5 rows x 28 columns]"
      ]
     },
     "execution_count": 4,
     "metadata": {},
     "output_type": "execute_result"
    }
   ],
   "source": [
    "# Checking for details of imported merged file\n",
    "df_cop.head()"
   ]
  },
  {
   "cell_type": "code",
   "execution_count": 5,
   "id": "7930521e",
   "metadata": {},
   "outputs": [
    {
     "data": {
      "text/plain": [
       "Index(['user_id', 'First Name', 'Surname', 'Gender', 'STATE', 'Age',\n",
       "       'date_joined', 'number_of_dependants', 'family_status', 'income',\n",
       "       'order_id', 'order_number', 'order_day_of_week', 'order_hour_of_day',\n",
       "       'days_since_prior_order', 'product_id', 'product_name', 'department_id',\n",
       "       'prices', 'busiest_days', 'busiest_period_of_day', 'max_order',\n",
       "       'loyalty_flag', 'mean_prices', 'spending_flag', 'median_prior_order',\n",
       "       'order_frequency_flag', '_merge'],\n",
       "      dtype='object')"
      ]
     },
     "execution_count": 5,
     "metadata": {},
     "output_type": "execute_result"
    }
   ],
   "source": [
    "df_cop.columns"
   ]
  },
  {
   "cell_type": "markdown",
   "id": "f209feb6",
   "metadata": {},
   "source": [
    "# 02. Personally identifiable information (PII)"
   ]
  },
  {
   "cell_type": "code",
   "execution_count": 6,
   "id": "6176a9ef",
   "metadata": {},
   "outputs": [],
   "source": [
    "# Dropping columns with personally identifiable information (PII)\n",
    "df_cop.drop(columns = ['First Name', 'Surname'], inplace = True)"
   ]
  },
  {
   "cell_type": "code",
   "execution_count": 7,
   "id": "57e02264",
   "metadata": {},
   "outputs": [
    {
     "data": {
      "text/plain": [
       "Index(['user_id', 'Gender', 'STATE', 'Age', 'date_joined',\n",
       "       'number_of_dependants', 'family_status', 'income', 'order_id',\n",
       "       'order_number', 'order_day_of_week', 'order_hour_of_day',\n",
       "       'days_since_prior_order', 'product_id', 'product_name', 'department_id',\n",
       "       'prices', 'busiest_days', 'busiest_period_of_day', 'max_order',\n",
       "       'loyalty_flag', 'mean_prices', 'spending_flag', 'median_prior_order',\n",
       "       'order_frequency_flag', '_merge'],\n",
       "      dtype='object')"
      ]
     },
     "execution_count": 7,
     "metadata": {},
     "output_type": "execute_result"
    }
   ],
   "source": [
    "# Checking outcome\n",
    "df_cop.columns"
   ]
  },
  {
   "cell_type": "markdown",
   "id": "3095ba81",
   "metadata": {},
   "source": [
    "# 03. Regional Sementation of Data"
   ]
  },
  {
   "cell_type": "markdown",
   "id": "7247d114",
   "metadata": {},
   "source": [
    "## Deriving new column 'Region' from 'STATE'"
   ]
  },
  {
   "cell_type": "code",
   "execution_count": 8,
   "id": "d1fe99a4",
   "metadata": {},
   "outputs": [],
   "source": [
    "# Creating new column 'Region' from column 'State' by defining function\n",
    "def state_label(row):\n",
    "    if row['STATE'] in ['Maine', 'New Hampshire', 'Vermont', 'Massachusetts', 'Rhode Island', 'Connecticut', 'New York', 'Pennsylvania', 'New Jersey']:\n",
    "        return 'Northeast'\n",
    "    elif (row['STATE'] in ['Wisconsin', 'Michigan', 'Illinois', 'Indiana', 'Ohio', 'North Dakota', 'South Dakota', 'Nebraska', 'Kansas', 'Minnesota', 'Iowa', 'Missouri']):\n",
    "        return 'Midwest'\n",
    "    elif(row['STATE'] in ['Delaware', 'Maryland', 'District of Columbia', 'Virginia', 'West Virginia', 'North Carolina', 'South Carolina', 'Georgia', 'Florida', 'Kentucky', 'Tennessee', 'Mississippi', 'Alabama', 'Oklahoma', 'Texas', 'Arkansas', 'Louisiana']):\n",
    "        return 'South'\n",
    "    elif (row ['STATE'] in ['Idaho', 'Montana', 'Wyoming', 'Nevada', 'Utah', 'Colorado', 'Arizona', 'New Mexico', 'Alaska', 'Washington', 'Oregon', 'California','Hawaii']):\n",
    "        return 'West'\n",
    "    else: return 'Region not specified'\n"
   ]
  },
  {
   "cell_type": "code",
   "execution_count": 9,
   "id": "51e4f987",
   "metadata": {},
   "outputs": [],
   "source": [
    "# Applying function on df_cop\n",
    "df_cop['Region'] = df_cop.apply(state_label, axis = 1)"
   ]
  },
  {
   "cell_type": "code",
   "execution_count": 10,
   "id": "7c9ba25e",
   "metadata": {},
   "outputs": [
    {
     "data": {
      "text/plain": [
       "Region\n",
       "South        10791885\n",
       "West          8292913\n",
       "Midwest       7597325\n",
       "Northeast     5722736\n",
       "Name: count, dtype: int64"
      ]
     },
     "execution_count": 10,
     "metadata": {},
     "output_type": "execute_result"
    }
   ],
   "source": [
    "# Checking frequency of new column\n",
    "df_cop['Region'].value_counts()"
   ]
  },
  {
   "cell_type": "markdown",
   "id": "6c6bd3cb",
   "metadata": {},
   "source": [
    "## Spending habits of customers across the different regions"
   ]
  },
  {
   "cell_type": "code",
   "execution_count": 11,
   "id": "dec16115",
   "metadata": {},
   "outputs": [],
   "source": [
    "# Crosstabing the new variable 'Region' with the column 'spending flag' to see whether there is a difference\n",
    "regional_spending_habit = pd.crosstab(df_cop['Region'], df_cop['spending_flag'], dropna = False)"
   ]
  },
  {
   "cell_type": "raw",
   "id": "2e1d2397",
   "metadata": {},
   "source": [
    "regional_spending_habit"
   ]
  },
  {
   "cell_type": "code",
   "execution_count": 12,
   "id": "1a4c7b74",
   "metadata": {},
   "outputs": [
    {
     "data": {
      "image/png": "[encoded data removed]",
      "text/plain": [
       "<Figure size 640x480 with 1 Axes>"
      ]
     },
     "metadata": {},
     "output_type": "display_data"
    }
   ],
   "source": [
    "regional_spending_bar_chart = regional_spending_habit.plot.bar()\n",
    "plt.xlabel(\"Region\", fontsize=10)\n",
    "plt.ylabel(\"Frequency\",fontsize=10)\n",
    "plt.title(\"Regional Spending Habit\", fontsize=12)\n",
    "plt.legend(loc='center left', bbox_to_anchor=(1.0, 0.5))\n",
    "plt.tight_layout()  "
   ]
  },
  {
   "cell_type": "markdown",
   "id": "0ab61d9b",
   "metadata": {},
   "source": [
    "### The table and chart above show that there is a difference in the spending habits across the different regions in the USA, with the highest numbers of spenders, both high and low, found in the South. In all regions, however, one thing in common, which is, the customers are low spenders."
   ]
  },
  {
   "cell_type": "code",
   "execution_count": 13,
   "id": "c7e68668",
   "metadata": {},
   "outputs": [],
   "source": [
    "# Export regional_spending_bar_chart as regional_spending_habit.png\n",
    "regional_spending_bar_chart.figure.savefig(os.path.join(path, '04 Analysis', 'Visualizations', 'regional_spending_habit.png'))"
   ]
  },
  {
   "cell_type": "code",
   "execution_count": 14,
   "id": "383f6eb5",
   "metadata": {},
   "outputs": [],
   "source": [
    "# Crosstabing the new variable 'loyalty_flag' with the column 'spending flag'\n",
    "loyal_spending = pd.crosstab(df_cop['loyalty_flag'], df_cop['spending_flag'], dropna = False)"
   ]
  },
  {
   "cell_type": "code",
   "execution_count": 15,
   "id": "4ba4073c",
   "metadata": {},
   "outputs": [
    {
     "data": {
      "text/html": [
       "<div>\n",
       "<style scoped>\n",
       "    .dataframe tbody tr th:only-of-type {\n",
       "        vertical-align: middle;\n",
       "    }\n",
       "\n",
       "    .dataframe tbody tr th {\n",
       "        vertical-align: top;\n",
       "    }\n",
       "\n",
       "    .dataframe thead th {\n",
       "        text-align: right;\n",
       "    }\n",
       "</style>\n",
       "<table border=\"1\" class=\"dataframe\">\n",
       "  <thead>\n",
       "    <tr style=\"text-align: right;\">\n",
       "      <th>spending_flag</th>\n",
       "      <th>Higher spender</th>\n",
       "      <th>Low spender</th>\n",
       "    </tr>\n",
       "    <tr>\n",
       "      <th>loyalty_flag</th>\n",
       "      <th></th>\n",
       "      <th></th>\n",
       "    </tr>\n",
       "  </thead>\n",
       "  <tbody>\n",
       "    <tr>\n",
       "      <th>Loyal customer</th>\n",
       "      <td>216600</td>\n",
       "      <td>10067493</td>\n",
       "    </tr>\n",
       "    <tr>\n",
       "      <th>New customer</th>\n",
       "      <td>114831</td>\n",
       "      <td>6129159</td>\n",
       "    </tr>\n",
       "    <tr>\n",
       "      <th>Regular customer</th>\n",
       "      <td>302814</td>\n",
       "      <td>15573962</td>\n",
       "    </tr>\n",
       "  </tbody>\n",
       "</table>\n",
       "</div>"
      ],
      "text/plain": [
       "spending_flag     Higher spender  Low spender\n",
       "loyalty_flag                                 \n",
       "Loyal customer            216600     10067493\n",
       "New customer              114831      6129159\n",
       "Regular customer          302814     15573962"
      ]
     },
     "execution_count": 15,
     "metadata": {},
     "output_type": "execute_result"
    }
   ],
   "source": [
    "loyal_spending"
   ]
  },
  {
   "cell_type": "code",
   "execution_count": 16,
   "id": "059f505e",
   "metadata": {},
   "outputs": [
    {
     "data": {
      "image/png": "[encoded data removed]",
      "text/plain": [
       "<Figure size 640x480 with 1 Axes>"
      ]
     },
     "metadata": {},
     "output_type": "display_data"
    }
   ],
   "source": [
    "loyal_spending_bar = loyal_spending.plot.bar(stacked = True)\n",
    "plt.xlabel(\"Region\", fontsize=10)\n",
    "plt.ylabel(\"Frequency\",fontsize=10)\n",
    "plt.title(\"Loyal Ordering Habit\", fontsize=12)\n",
    "plt.legend(loc='center left', bbox_to_anchor=(1.0, 0.5))\n",
    "plt.tight_layout()  "
   ]
  },
  {
   "cell_type": "code",
   "execution_count": 17,
   "id": "48196004",
   "metadata": {},
   "outputs": [],
   "source": [
    "# Export loyal_spending_bar_chart as loyal_spending_habit.png\n",
    "loyal_spending_bar.figure.savefig(os.path.join(path, '04 Analysis', 'Visualizations', 'loyal_spending_habit.png'))"
   ]
  },
  {
   "cell_type": "markdown",
   "id": "8b4151e2",
   "metadata": {},
   "source": [
    "# 04. Exclusion flag for low-activity customers"
   ]
  },
  {
   "cell_type": "code",
   "execution_count": 18,
   "id": "c6c1ef56",
   "metadata": {},
   "outputs": [],
   "source": [
    "# Creating a subset to be exported\n",
    "Low_activity_customers = df_cop.loc[df_cop['order_number'] < 5]"
   ]
  },
  {
   "cell_type": "code",
   "execution_count": 19,
   "id": "ed9db69c",
   "metadata": {},
   "outputs": [
    {
     "data": {
      "text/html": [
       "<div>\n",
       "<style scoped>\n",
       "    .dataframe tbody tr th:only-of-type {\n",
       "        vertical-align: middle;\n",
       "    }\n",
       "\n",
       "    .dataframe tbody tr th {\n",
       "        vertical-align: top;\n",
       "    }\n",
       "\n",
       "    .dataframe thead th {\n",
       "        text-align: right;\n",
       "    }\n",
       "</style>\n",
       "<table border=\"1\" class=\"dataframe\">\n",
       "  <thead>\n",
       "    <tr style=\"text-align: right;\">\n",
       "      <th></th>\n",
       "      <th>user_id</th>\n",
       "      <th>Gender</th>\n",
       "      <th>STATE</th>\n",
       "      <th>Age</th>\n",
       "      <th>date_joined</th>\n",
       "      <th>number_of_dependants</th>\n",
       "      <th>family_status</th>\n",
       "      <th>income</th>\n",
       "      <th>order_id</th>\n",
       "      <th>order_number</th>\n",
       "      <th>...</th>\n",
       "      <th>busiest_days</th>\n",
       "      <th>busiest_period_of_day</th>\n",
       "      <th>max_order</th>\n",
       "      <th>loyalty_flag</th>\n",
       "      <th>mean_prices</th>\n",
       "      <th>spending_flag</th>\n",
       "      <th>median_prior_order</th>\n",
       "      <th>order_frequency_flag</th>\n",
       "      <th>_merge</th>\n",
       "      <th>Region</th>\n",
       "    </tr>\n",
       "  </thead>\n",
       "  <tbody>\n",
       "    <tr>\n",
       "      <th>3</th>\n",
       "      <td>26711</td>\n",
       "      <td>Female</td>\n",
       "      <td>Missouri</td>\n",
       "      <td>48</td>\n",
       "      <td>1/1/2017</td>\n",
       "      <td>3</td>\n",
       "      <td>married</td>\n",
       "      <td>165665</td>\n",
       "      <td>423547</td>\n",
       "      <td>2</td>\n",
       "      <td>...</td>\n",
       "      <td>Regularly busy</td>\n",
       "      <td>Most orders</td>\n",
       "      <td>8</td>\n",
       "      <td>New customer</td>\n",
       "      <td>7.988889</td>\n",
       "      <td>Low spender</td>\n",
       "      <td>19.0</td>\n",
       "      <td>Regular customer</td>\n",
       "      <td>both</td>\n",
       "      <td>Midwest</td>\n",
       "    </tr>\n",
       "    <tr>\n",
       "      <th>4</th>\n",
       "      <td>26711</td>\n",
       "      <td>Female</td>\n",
       "      <td>Missouri</td>\n",
       "      <td>48</td>\n",
       "      <td>1/1/2017</td>\n",
       "      <td>3</td>\n",
       "      <td>married</td>\n",
       "      <td>165665</td>\n",
       "      <td>2524893</td>\n",
       "      <td>3</td>\n",
       "      <td>...</td>\n",
       "      <td>Least busy 2</td>\n",
       "      <td>Most orders</td>\n",
       "      <td>8</td>\n",
       "      <td>New customer</td>\n",
       "      <td>7.988889</td>\n",
       "      <td>Low spender</td>\n",
       "      <td>19.0</td>\n",
       "      <td>Regular customer</td>\n",
       "      <td>both</td>\n",
       "      <td>Midwest</td>\n",
       "    </tr>\n",
       "    <tr>\n",
       "      <th>5</th>\n",
       "      <td>26711</td>\n",
       "      <td>Female</td>\n",
       "      <td>Missouri</td>\n",
       "      <td>48</td>\n",
       "      <td>1/1/2017</td>\n",
       "      <td>3</td>\n",
       "      <td>married</td>\n",
       "      <td>165665</td>\n",
       "      <td>2984525</td>\n",
       "      <td>4</td>\n",
       "      <td>...</td>\n",
       "      <td>Busiest day 2</td>\n",
       "      <td>Average orders</td>\n",
       "      <td>8</td>\n",
       "      <td>New customer</td>\n",
       "      <td>7.988889</td>\n",
       "      <td>Low spender</td>\n",
       "      <td>19.0</td>\n",
       "      <td>Regular customer</td>\n",
       "      <td>both</td>\n",
       "      <td>Midwest</td>\n",
       "    </tr>\n",
       "    <tr>\n",
       "      <th>9</th>\n",
       "      <td>26711</td>\n",
       "      <td>Female</td>\n",
       "      <td>Missouri</td>\n",
       "      <td>48</td>\n",
       "      <td>1/1/2017</td>\n",
       "      <td>3</td>\n",
       "      <td>married</td>\n",
       "      <td>165665</td>\n",
       "      <td>518967</td>\n",
       "      <td>1</td>\n",
       "      <td>...</td>\n",
       "      <td>Regularly busy</td>\n",
       "      <td>Most orders</td>\n",
       "      <td>8</td>\n",
       "      <td>New customer</td>\n",
       "      <td>7.988889</td>\n",
       "      <td>Low spender</td>\n",
       "      <td>19.0</td>\n",
       "      <td>Regular customer</td>\n",
       "      <td>both</td>\n",
       "      <td>Midwest</td>\n",
       "    </tr>\n",
       "    <tr>\n",
       "      <th>10</th>\n",
       "      <td>26711</td>\n",
       "      <td>Female</td>\n",
       "      <td>Missouri</td>\n",
       "      <td>48</td>\n",
       "      <td>1/1/2017</td>\n",
       "      <td>3</td>\n",
       "      <td>married</td>\n",
       "      <td>165665</td>\n",
       "      <td>2524893</td>\n",
       "      <td>3</td>\n",
       "      <td>...</td>\n",
       "      <td>Least busy 2</td>\n",
       "      <td>Most orders</td>\n",
       "      <td>8</td>\n",
       "      <td>New customer</td>\n",
       "      <td>7.988889</td>\n",
       "      <td>Low spender</td>\n",
       "      <td>19.0</td>\n",
       "      <td>Regular customer</td>\n",
       "      <td>both</td>\n",
       "      <td>Midwest</td>\n",
       "    </tr>\n",
       "  </tbody>\n",
       "</table>\n",
       "<p>5 rows × 27 columns</p>\n",
       "</div>"
      ],
      "text/plain": [
       "   user_id  Gender     STATE  Age date_joined  number_of_dependants  \\\n",
       "3    26711  Female  Missouri   48    1/1/2017                     3   \n",
       "4    26711  Female  Missouri   48    1/1/2017                     3   \n",
       "5    26711  Female  Missouri   48    1/1/2017                     3   \n",
       "9    26711  Female  Missouri   48    1/1/2017                     3   \n",
       "10   26711  Female  Missouri   48    1/1/2017                     3   \n",
       "\n",
       "   family_status  income  order_id  order_number  ...    busiest_days  \\\n",
       "3        married  165665    423547             2  ...  Regularly busy   \n",
       "4        married  165665   2524893             3  ...    Least busy 2   \n",
       "5        married  165665   2984525             4  ...   Busiest day 2   \n",
       "9        married  165665    518967             1  ...  Regularly busy   \n",
       "10       married  165665   2524893             3  ...    Least busy 2   \n",
       "\n",
       "    busiest_period_of_day  max_order  loyalty_flag mean_prices  spending_flag  \\\n",
       "3             Most orders          8  New customer    7.988889    Low spender   \n",
       "4             Most orders          8  New customer    7.988889    Low spender   \n",
       "5          Average orders          8  New customer    7.988889    Low spender   \n",
       "9             Most orders          8  New customer    7.988889    Low spender   \n",
       "10            Most orders          8  New customer    7.988889    Low spender   \n",
       "\n",
       "    median_prior_order order_frequency_flag _merge   Region  \n",
       "3                 19.0     Regular customer   both  Midwest  \n",
       "4                 19.0     Regular customer   both  Midwest  \n",
       "5                 19.0     Regular customer   both  Midwest  \n",
       "9                 19.0     Regular customer   both  Midwest  \n",
       "10                19.0     Regular customer   both  Midwest  \n",
       "\n",
       "[5 rows x 27 columns]"
      ]
     },
     "execution_count": 19,
     "metadata": {},
     "output_type": "execute_result"
    }
   ],
   "source": [
    "Low_activity_customers.head()"
   ]
  },
  {
   "cell_type": "code",
   "execution_count": 20,
   "id": "4539ca5d",
   "metadata": {},
   "outputs": [],
   "source": [
    "# Export Low_activity_customers\n",
    "Low_activity_customers.to_pickle(os.path.join(path, '02 Data','Prepared Data', 'Low_activity_customers.pkl'))"
   ]
  },
  {
   "cell_type": "code",
   "execution_count": 21,
   "id": "3b2124b5",
   "metadata": {},
   "outputs": [],
   "source": [
    "# Excluding the subset by dropping the subset\n",
    "df_cop = df_cop.drop(df_cop[df_cop['order_number'] < 5].index)"
   ]
  },
  {
   "cell_type": "code",
   "execution_count": 22,
   "id": "65114a0a",
   "metadata": {},
   "outputs": [
    {
     "data": {
      "text/plain": [
       "(7989982, 27)"
      ]
     },
     "execution_count": 22,
     "metadata": {},
     "output_type": "execute_result"
    }
   ],
   "source": [
    "Low_activity_customers.shape"
   ]
  },
  {
   "cell_type": "code",
   "execution_count": 23,
   "id": "7192ed5b",
   "metadata": {},
   "outputs": [
    {
     "data": {
      "text/plain": [
       "(24414877, 27)"
      ]
     },
     "execution_count": 23,
     "metadata": {},
     "output_type": "execute_result"
    }
   ],
   "source": [
    "df_cop.shape"
   ]
  },
  {
   "cell_type": "markdown",
   "id": "63f79a7e",
   "metadata": {},
   "source": [
    "# 05. Profiling Customer"
   ]
  },
  {
   "cell_type": "markdown",
   "id": "16c2073e",
   "metadata": {},
   "source": [
    "### The marketing and business strategy units at Instacart want to create more-relevant marketing strategies for different products and are, thus, curious about customer profiling in their database. Create a profiling variable based on age, income, certain goods in the “department_id” column, and number of dependents. You might also use the “orders_day_of_the_week” and “order_hour_of_day” columns if you can think of a way they would impact customer profiles. (Hint: As an example, try thinking of what characteristics would lead you to the profile “Single adult” or “Young parent.”)"
   ]
  },
  {
   "cell_type": "code",
   "execution_count": 24,
   "id": "13f82b45",
   "metadata": {},
   "outputs": [],
   "source": [
    "# Creating customer profile based on age and family_status\n",
    "df_cop.loc[(df_cop['Age'] >= 18) & (df_cop['Age'] < 40) & (df_cop['family_status'].isin (['single', 'divorced/widowed'])) & (df_cop['number_of_dependants'] > 0), 'customer_profile_1'] = 'Single young parent'\n",
    "df_cop.loc[(df_cop['Age'] >= 18) & (df_cop['Age'] < 40) & (df_cop['family_status'] == 'living with parents and siblings'), 'customer_profile_1'] = 'Single young dependent'\n",
    "df_cop.loc[(df_cop['Age'] >= 18) & (df_cop['Age'] < 40) & (df_cop['family_status'] == 'married') & (df_cop['number_of_dependants'] > 0), 'customer_profile_1'] = 'Married young parent'\n",
    "df_cop.loc[(df_cop['Age'] >= 18) & (df_cop['Age'] < 40) & (df_cop['family_status'].isin (['single', 'divorced/widowed'])) & (df_cop['number_of_dependants'] == 0), 'customer_profile_1'] = 'Single young adult'\n",
    "df_cop.loc[(df_cop['Age'] >= 18) & (df_cop['Age'] < 40) & (df_cop['family_status'] == 'married') & (df_cop['number_of_dependants'] == 0), 'customer_profile_1'] = 'Married young adult'\n",
    "df_cop.loc[(df_cop['Age'] >= 40) & (df_cop['Age'] < 60) & (df_cop['family_status'].isin (['single', 'divorced/widowed'])) & (df_cop['number_of_dependants'] > 0), 'customer_profile_1'] = 'Single middle-aged parent'\n",
    "df_cop.loc[(df_cop['Age'] >= 40) & (df_cop['Age'] < 60) & (df_cop['family_status'] == 'married') & (df_cop['number_of_dependants'] > 0), 'customer_profile_1'] = 'Married middle-aged parent'\n",
    "df_cop.loc[(df_cop['Age'] >= 40) & (df_cop['Age'] < 60) & (df_cop['family_status'].isin (['single', 'divorced/widowed'])) & (df_cop['number_of_dependants'] == 0), 'customer_profile_1'] = 'Single middle-aged adult'\n",
    "df_cop.loc[(df_cop['Age'] >= 40) & (df_cop['Age'] < 60) & (df_cop['family_status'] == 'married') & (df_cop['number_of_dependants'] == 0), 'customer_profile_1'] = 'Married middle-aged adult'\n",
    "df_cop.loc[(df_cop['Age'] >= 60) & (df_cop['family_status'].isin (['single', 'divorced/widowed'])) & (df_cop['number_of_dependants'] > 0), 'customer_profile_1'] = 'Single elderly parent'\n",
    "df_cop.loc[(df_cop['Age'] >= 60) & (df_cop['family_status'].isin (['single', 'divorced/widowed'])) & (df_cop['number_of_dependants'] == 0), 'customer_profile_1'] = 'Single elderly adult'\n",
    "df_cop.loc[(df_cop['Age'] >= 60) & (df_cop['family_status'] == 'married') & (df_cop['number_of_dependants'] == 0), 'customer_profile_1'] = 'Married elderly adult'\n",
    "df_cop.loc[(df_cop['Age'] >= 60) & (df_cop['family_status'] == 'married') & (df_cop['number_of_dependants'] > 0), 'customer_profile_1'] = 'Married elderly parent'"
   ]
  },
  {
   "cell_type": "code",
   "execution_count": 25,
   "id": "37370286",
   "metadata": {},
   "outputs": [
    {
     "data": {
      "text/plain": [
       "customer_profile_1\n",
       "Married elderly parent        6241386\n",
       "Married middle-aged parent    5741449\n",
       "Married young parent          5155641\n",
       "Single young adult            2091935\n",
       "Single elderly adult          2089212\n",
       "Single middle-aged adult      1923855\n",
       "Single young dependent        1171399\n",
       "Name: count, dtype: int64"
      ]
     },
     "execution_count": 25,
     "metadata": {},
     "output_type": "execute_result"
    }
   ],
   "source": [
    "df_cop['customer_profile_1'].value_counts()"
   ]
  },
  {
   "cell_type": "code",
   "execution_count": 26,
   "id": "0242f4e2",
   "metadata": {},
   "outputs": [
    {
     "data": {
      "image/png": "[encoded data removed]",
      "text/plain": [
       "<Figure size 640x480 with 1 Axes>"
      ]
     },
     "metadata": {},
     "output_type": "display_data"
    }
   ],
   "source": [
    "customer_profile_family = df_cop['customer_profile_1'].value_counts().plot.barh()\n",
    "plt.title ('Customer Profile Based on Age and Family Status')\n",
    "plt.ylabel ('customer_family_status', fontsize = 13)\n",
    "plt.tight_layout()"
   ]
  },
  {
   "cell_type": "markdown",
   "id": "2f4c03d0",
   "metadata": {},
   "source": [
    "### The first customer profile is based on age and family status; the family status includes marital status and number of dependants.\n",
    "### The chart shows that the greater numbers of Instacart customers are family people with dependants, that is married with dependants, with the Married elderly parent group (married people above 60 having dependants, for example, children)  being the largest group. The Single young dependent group (people between 18 and 40 still living with parents/siblings) have the least number of customers."
   ]
  },
  {
   "cell_type": "code",
   "execution_count": 27,
   "id": "0a8e79ca",
   "metadata": {},
   "outputs": [],
   "source": [
    "# Export chart for customer_profile_family as customer_profile_family.png\n",
    "customer_profile_family.figure.savefig(os.path.join(path, '04 Analysis', 'Visualizations', 'customer_profile_family.png'))"
   ]
  },
  {
   "cell_type": "markdown",
   "id": "f5e8c942",
   "metadata": {},
   "source": [
    "## Creating Profile based on Income"
   ]
  },
  {
   "cell_type": "code",
   "execution_count": 28,
   "id": "a8ec5e87",
   "metadata": {},
   "outputs": [],
   "source": [
    "# Creating customer profile based on income\n",
    "df_cop.loc[(df_cop['income'] >= 25903) & (df_cop['income'] <= 30000), 'customer_profile_income'] = 'Low-class income earner'\n",
    "df_cop.loc[(df_cop['income'] > 30000) & (df_cop['income'] <= 201270), 'customer_profile_income'] = 'Middle-class income earner'\n",
    "df_cop.loc[df_cop['income'] > 201270, 'customer_profile_income'] = 'High-class income earner'"
   ]
  },
  {
   "cell_type": "code",
   "execution_count": 29,
   "id": "49076a6e",
   "metadata": {},
   "outputs": [
    {
     "data": {
      "text/plain": [
       "customer_profile_income\n",
       "Middle-class income earner    24057932\n",
       "High-class income earner        209246\n",
       "Low-class income earner         147699\n",
       "Name: count, dtype: int64"
      ]
     },
     "execution_count": 29,
     "metadata": {},
     "output_type": "execute_result"
    }
   ],
   "source": [
    "# Checking frequency of 'customer_profile_income'\n",
    "df_cop['customer_profile_income'].value_counts()"
   ]
  },
  {
   "cell_type": "code",
   "execution_count": 30,
   "id": "af8b2c6d",
   "metadata": {},
   "outputs": [
    {
     "data": {
      "image/png": "[encoded data removed]",
      "text/plain": [
       "<Figure size 640x480 with 1 Axes>"
      ]
     },
     "metadata": {},
     "output_type": "display_data"
    }
   ],
   "source": [
    "# Creating Chart for 'customer_profile_income'\n",
    "customer_profile_income_bar = df_cop['customer_profile_income'].value_counts().plot.barh()\n",
    "plt.title ('Customer Profile Based on Income')\n",
    "plt.ylabel ('Class of Income')\n",
    "plt.tight_layout()"
   ]
  },
  {
   "cell_type": "markdown",
   "id": "f4ca3737",
   "metadata": {},
   "source": [
    "### The greatest percentage of Instacart customers are middle-class earners"
   ]
  },
  {
   "cell_type": "code",
   "execution_count": 31,
   "id": "0f621b62",
   "metadata": {},
   "outputs": [],
   "source": [
    "# Export chart for customer_profile_income_bar as customer_profile_income.png\n",
    "customer_profile_income_bar.figure.savefig(os.path.join(path, '04 Analysis', 'Visualizations', 'customer_profile_income.png'))"
   ]
  },
  {
   "cell_type": "markdown",
   "id": "c25b4679",
   "metadata": {},
   "source": [
    "## Creating Profile based on goods ordered ('department_id')"
   ]
  },
  {
   "cell_type": "code",
   "execution_count": 32,
   "id": "217cf99a",
   "metadata": {},
   "outputs": [],
   "source": [
    "# Creating customer profile based department_id\n",
    "df_cop.loc[(df_cop['department_id'].isin ([4, 16, 19, 7, 1, 13, 3, 15, 20])) & (df_cop['customer_profile_1'].isin (['Married young parent', 'Married middle-aged parent', 'Married elderly parent'])), 'customer_profile_goods'] = 'Family most ordered goods'\n",
    "df_cop.loc[(df_cop['department_id'].isin ([4, 16, 19, 7, 1, 13, 3, 15, 20])) & (df_cop['customer_profile_1'].isin (['Single young adult', 'Single middle-aged adult', 'Single elderly adult'])), 'customer_profile_goods'] = 'Individual most ordered goods'                                                                                 \n",
    "df_cop.loc[(df_cop['department_id'].isin ([9, 17, 12, 14, 11, 18, 6, 5])) & (df_cop['customer_profile_1'].isin (['Married young parent', 'Married middle-aged parent', 'Married elderly parent'])), 'customer_profile_goods'] = 'Family average ordered goods'\n",
    "df_cop.loc[(df_cop['department_id'].isin ([9, 17, 12, 14, 11, 18, 6, 5])) & (df_cop['customer_profile_1'].isin (['Single young adult', 'Single middle-aged adult', 'Single elderly adult'])), 'customer_profile_goods'] = 'Individual average ordered goods'                                                                             \n",
    "df_cop.loc[(df_cop['department_id'].isin ([8, 21, 2, 10])) & (df_cop['customer_profile_1'].isin (['Married young parent', 'Married middle-aged parent', 'Married elderly parent'])), 'customer_profile_goods'] = 'Family Least ordered'\n",
    "df_cop.loc[(df_cop['department_id'].isin ([8, 21, 2, 10])) & (df_cop['customer_profile_1'].isin (['Single young adult', 'Single middle-aged adult', 'Single elderly adult'])), 'customer_profile_goods'] = 'Individual Least ordered'                "
   ]
  },
  {
   "cell_type": "code",
   "execution_count": 33,
   "id": "beb47ea7",
   "metadata": {
    "scrolled": true
   },
   "outputs": [
    {
     "data": {
      "text/plain": [
       "customer_profile_goods\n",
       "Family most ordered goods           14765388\n",
       "Individual most ordered goods        5266490\n",
       "Family average ordered goods         2244556\n",
       "Individual average ordered goods      792610\n",
       "Family Least ordered                  128532\n",
       "Individual Least ordered               45902\n",
       "Name: count, dtype: int64"
      ]
     },
     "execution_count": 33,
     "metadata": {},
     "output_type": "execute_result"
    }
   ],
   "source": [
    "# Checking frequency of 'customer_profile_goods'\n",
    "df_cop['customer_profile_goods'].value_counts()"
   ]
  },
  {
   "cell_type": "code",
   "execution_count": 34,
   "id": "5a30bf3f",
   "metadata": {},
   "outputs": [
    {
     "data": {
      "image/png": "[encoded data removed]",
      "text/plain": [
       "<Figure size 640x480 with 1 Axes>"
      ]
     },
     "metadata": {},
     "output_type": "display_data"
    }
   ],
   "source": [
    "# Creating bar chart for 'customer_profile_goods'\n",
    "cust_profile_dept_bar = df_cop['customer_profile_goods'].value_counts().plot.barh()\n",
    "plt.title ('Customer Profile Based on Family Status & Goods ordered')\n",
    "plt.ylabel ('Class of goods')\n",
    "plt.tight_layout()"
   ]
  },
  {
   "cell_type": "code",
   "execution_count": 35,
   "id": "9bd7ddb5",
   "metadata": {},
   "outputs": [],
   "source": [
    "# Export chart for customer_profile_dept_bar as customer_profile_goods.png\n",
    "cust_profile_dept_bar.figure.savefig(os.path.join(path, '04 Analysis', 'Visualizations', 'customer_profile_goods.png'))"
   ]
  },
  {
   "cell_type": "code",
   "execution_count": 36,
   "id": "babf745d",
   "metadata": {},
   "outputs": [],
   "source": [
    "# importing file 'departments.csv'\n",
    "df_dep = pd.read_csv(os.path.join(path, '02 Data', 'Original Data', 'departments.csv'), index_col = False)"
   ]
  },
  {
   "cell_type": "code",
   "execution_count": 37,
   "id": "37fa5d01",
   "metadata": {},
   "outputs": [
    {
     "data": {
      "text/html": [
       "<div>\n",
       "<style scoped>\n",
       "    .dataframe tbody tr th:only-of-type {\n",
       "        vertical-align: middle;\n",
       "    }\n",
       "\n",
       "    .dataframe tbody tr th {\n",
       "        vertical-align: top;\n",
       "    }\n",
       "\n",
       "    .dataframe thead th {\n",
       "        text-align: right;\n",
       "    }\n",
       "</style>\n",
       "<table border=\"1\" class=\"dataframe\">\n",
       "  <thead>\n",
       "    <tr style=\"text-align: right;\">\n",
       "      <th></th>\n",
       "      <th>department_id</th>\n",
       "      <th>1</th>\n",
       "      <th>2</th>\n",
       "      <th>3</th>\n",
       "      <th>4</th>\n",
       "      <th>5</th>\n",
       "      <th>6</th>\n",
       "      <th>7</th>\n",
       "      <th>8</th>\n",
       "      <th>9</th>\n",
       "      <th>...</th>\n",
       "      <th>12</th>\n",
       "      <th>13</th>\n",
       "      <th>14</th>\n",
       "      <th>15</th>\n",
       "      <th>16</th>\n",
       "      <th>17</th>\n",
       "      <th>18</th>\n",
       "      <th>19</th>\n",
       "      <th>20</th>\n",
       "      <th>21</th>\n",
       "    </tr>\n",
       "  </thead>\n",
       "  <tbody>\n",
       "    <tr>\n",
       "      <th>0</th>\n",
       "      <td>department</td>\n",
       "      <td>frozen</td>\n",
       "      <td>other</td>\n",
       "      <td>bakery</td>\n",
       "      <td>produce</td>\n",
       "      <td>alcohol</td>\n",
       "      <td>international</td>\n",
       "      <td>beverages</td>\n",
       "      <td>pets</td>\n",
       "      <td>dry goods pasta</td>\n",
       "      <td>...</td>\n",
       "      <td>meat seafood</td>\n",
       "      <td>pantry</td>\n",
       "      <td>breakfast</td>\n",
       "      <td>canned goods</td>\n",
       "      <td>dairy eggs</td>\n",
       "      <td>household</td>\n",
       "      <td>babies</td>\n",
       "      <td>snacks</td>\n",
       "      <td>deli</td>\n",
       "      <td>missing</td>\n",
       "    </tr>\n",
       "  </tbody>\n",
       "</table>\n",
       "<p>1 rows × 22 columns</p>\n",
       "</div>"
      ],
      "text/plain": [
       "  department_id       1      2       3        4        5              6  \\\n",
       "0    department  frozen  other  bakery  produce  alcohol  international   \n",
       "\n",
       "           7     8                9  ...            12      13         14  \\\n",
       "0  beverages  pets  dry goods pasta  ...  meat seafood  pantry  breakfast   \n",
       "\n",
       "             15          16         17      18      19    20       21  \n",
       "0  canned goods  dairy eggs  household  babies  snacks  deli  missing  \n",
       "\n",
       "[1 rows x 22 columns]"
      ]
     },
     "execution_count": 37,
     "metadata": {},
     "output_type": "execute_result"
    }
   ],
   "source": [
    "df_dep.head()"
   ]
  },
  {
   "cell_type": "code",
   "execution_count": 38,
   "id": "9894c41d",
   "metadata": {},
   "outputs": [
    {
     "data": {
      "text/html": [
       "<div>\n",
       "<style scoped>\n",
       "    .dataframe tbody tr th:only-of-type {\n",
       "        vertical-align: middle;\n",
       "    }\n",
       "\n",
       "    .dataframe tbody tr th {\n",
       "        vertical-align: top;\n",
       "    }\n",
       "\n",
       "    .dataframe thead th {\n",
       "        text-align: right;\n",
       "    }\n",
       "</style>\n",
       "<table border=\"1\" class=\"dataframe\">\n",
       "  <thead>\n",
       "    <tr style=\"text-align: right;\">\n",
       "      <th></th>\n",
       "      <th>0</th>\n",
       "    </tr>\n",
       "  </thead>\n",
       "  <tbody>\n",
       "    <tr>\n",
       "      <th>department_id</th>\n",
       "      <td>department</td>\n",
       "    </tr>\n",
       "    <tr>\n",
       "      <th>1</th>\n",
       "      <td>frozen</td>\n",
       "    </tr>\n",
       "    <tr>\n",
       "      <th>2</th>\n",
       "      <td>other</td>\n",
       "    </tr>\n",
       "    <tr>\n",
       "      <th>3</th>\n",
       "      <td>bakery</td>\n",
       "    </tr>\n",
       "    <tr>\n",
       "      <th>4</th>\n",
       "      <td>produce</td>\n",
       "    </tr>\n",
       "    <tr>\n",
       "      <th>5</th>\n",
       "      <td>alcohol</td>\n",
       "    </tr>\n",
       "    <tr>\n",
       "      <th>6</th>\n",
       "      <td>international</td>\n",
       "    </tr>\n",
       "    <tr>\n",
       "      <th>7</th>\n",
       "      <td>beverages</td>\n",
       "    </tr>\n",
       "    <tr>\n",
       "      <th>8</th>\n",
       "      <td>pets</td>\n",
       "    </tr>\n",
       "    <tr>\n",
       "      <th>9</th>\n",
       "      <td>dry goods pasta</td>\n",
       "    </tr>\n",
       "    <tr>\n",
       "      <th>10</th>\n",
       "      <td>bulk</td>\n",
       "    </tr>\n",
       "    <tr>\n",
       "      <th>11</th>\n",
       "      <td>personal care</td>\n",
       "    </tr>\n",
       "    <tr>\n",
       "      <th>12</th>\n",
       "      <td>meat seafood</td>\n",
       "    </tr>\n",
       "    <tr>\n",
       "      <th>13</th>\n",
       "      <td>pantry</td>\n",
       "    </tr>\n",
       "    <tr>\n",
       "      <th>14</th>\n",
       "      <td>breakfast</td>\n",
       "    </tr>\n",
       "    <tr>\n",
       "      <th>15</th>\n",
       "      <td>canned goods</td>\n",
       "    </tr>\n",
       "    <tr>\n",
       "      <th>16</th>\n",
       "      <td>dairy eggs</td>\n",
       "    </tr>\n",
       "    <tr>\n",
       "      <th>17</th>\n",
       "      <td>household</td>\n",
       "    </tr>\n",
       "    <tr>\n",
       "      <th>18</th>\n",
       "      <td>babies</td>\n",
       "    </tr>\n",
       "    <tr>\n",
       "      <th>19</th>\n",
       "      <td>snacks</td>\n",
       "    </tr>\n",
       "    <tr>\n",
       "      <th>20</th>\n",
       "      <td>deli</td>\n",
       "    </tr>\n",
       "    <tr>\n",
       "      <th>21</th>\n",
       "      <td>missing</td>\n",
       "    </tr>\n",
       "  </tbody>\n",
       "</table>\n",
       "</div>"
      ],
      "text/plain": [
       "                             0\n",
       "department_id       department\n",
       "1                       frozen\n",
       "2                        other\n",
       "3                       bakery\n",
       "4                      produce\n",
       "5                      alcohol\n",
       "6                international\n",
       "7                    beverages\n",
       "8                         pets\n",
       "9              dry goods pasta\n",
       "10                        bulk\n",
       "11               personal care\n",
       "12                meat seafood\n",
       "13                      pantry\n",
       "14                   breakfast\n",
       "15                canned goods\n",
       "16                  dairy eggs\n",
       "17                   household\n",
       "18                      babies\n",
       "19                      snacks\n",
       "20                        deli\n",
       "21                     missing"
      ]
     },
     "execution_count": 38,
     "metadata": {},
     "output_type": "execute_result"
    }
   ],
   "source": [
    "# Transposing df_dep\n",
    "df_dep.T"
   ]
  },
  {
   "cell_type": "code",
   "execution_count": 39,
   "id": "86764ee6",
   "metadata": {},
   "outputs": [],
   "source": [
    "# Assigning a new name to transposed dataframe\n",
    "df_dep_t = df_dep.T"
   ]
  },
  {
   "cell_type": "markdown",
   "id": "fb9234e2",
   "metadata": {},
   "source": [
    "## Merging df_cop with df_dep_t"
   ]
  },
  {
   "cell_type": "code",
   "execution_count": 41,
   "id": "078b34e2",
   "metadata": {},
   "outputs": [
    {
     "data": {
      "text/html": [
       "<div>\n",
       "<style scoped>\n",
       "    .dataframe tbody tr th:only-of-type {\n",
       "        vertical-align: middle;\n",
       "    }\n",
       "\n",
       "    .dataframe tbody tr th {\n",
       "        vertical-align: top;\n",
       "    }\n",
       "\n",
       "    .dataframe thead th {\n",
       "        text-align: right;\n",
       "    }\n",
       "</style>\n",
       "<table border=\"1\" class=\"dataframe\">\n",
       "  <thead>\n",
       "    <tr style=\"text-align: right;\">\n",
       "      <th></th>\n",
       "      <th>0</th>\n",
       "    </tr>\n",
       "  </thead>\n",
       "  <tbody>\n",
       "    <tr>\n",
       "      <th>department_id</th>\n",
       "      <td>department</td>\n",
       "    </tr>\n",
       "    <tr>\n",
       "      <th>1</th>\n",
       "      <td>frozen</td>\n",
       "    </tr>\n",
       "    <tr>\n",
       "      <th>2</th>\n",
       "      <td>other</td>\n",
       "    </tr>\n",
       "    <tr>\n",
       "      <th>3</th>\n",
       "      <td>bakery</td>\n",
       "    </tr>\n",
       "    <tr>\n",
       "      <th>4</th>\n",
       "      <td>produce</td>\n",
       "    </tr>\n",
       "    <tr>\n",
       "      <th>5</th>\n",
       "      <td>alcohol</td>\n",
       "    </tr>\n",
       "    <tr>\n",
       "      <th>6</th>\n",
       "      <td>international</td>\n",
       "    </tr>\n",
       "    <tr>\n",
       "      <th>7</th>\n",
       "      <td>beverages</td>\n",
       "    </tr>\n",
       "    <tr>\n",
       "      <th>8</th>\n",
       "      <td>pets</td>\n",
       "    </tr>\n",
       "    <tr>\n",
       "      <th>9</th>\n",
       "      <td>dry goods pasta</td>\n",
       "    </tr>\n",
       "    <tr>\n",
       "      <th>10</th>\n",
       "      <td>bulk</td>\n",
       "    </tr>\n",
       "    <tr>\n",
       "      <th>11</th>\n",
       "      <td>personal care</td>\n",
       "    </tr>\n",
       "    <tr>\n",
       "      <th>12</th>\n",
       "      <td>meat seafood</td>\n",
       "    </tr>\n",
       "    <tr>\n",
       "      <th>13</th>\n",
       "      <td>pantry</td>\n",
       "    </tr>\n",
       "    <tr>\n",
       "      <th>14</th>\n",
       "      <td>breakfast</td>\n",
       "    </tr>\n",
       "    <tr>\n",
       "      <th>15</th>\n",
       "      <td>canned goods</td>\n",
       "    </tr>\n",
       "    <tr>\n",
       "      <th>16</th>\n",
       "      <td>dairy eggs</td>\n",
       "    </tr>\n",
       "    <tr>\n",
       "      <th>17</th>\n",
       "      <td>household</td>\n",
       "    </tr>\n",
       "    <tr>\n",
       "      <th>18</th>\n",
       "      <td>babies</td>\n",
       "    </tr>\n",
       "    <tr>\n",
       "      <th>19</th>\n",
       "      <td>snacks</td>\n",
       "    </tr>\n",
       "    <tr>\n",
       "      <th>20</th>\n",
       "      <td>deli</td>\n",
       "    </tr>\n",
       "    <tr>\n",
       "      <th>21</th>\n",
       "      <td>missing</td>\n",
       "    </tr>\n",
       "  </tbody>\n",
       "</table>\n",
       "</div>"
      ],
      "text/plain": [
       "                             0\n",
       "department_id       department\n",
       "1                       frozen\n",
       "2                        other\n",
       "3                       bakery\n",
       "4                      produce\n",
       "5                      alcohol\n",
       "6                international\n",
       "7                    beverages\n",
       "8                         pets\n",
       "9              dry goods pasta\n",
       "10                        bulk\n",
       "11               personal care\n",
       "12                meat seafood\n",
       "13                      pantry\n",
       "14                   breakfast\n",
       "15                canned goods\n",
       "16                  dairy eggs\n",
       "17                   household\n",
       "18                      babies\n",
       "19                      snacks\n",
       "20                        deli\n",
       "21                     missing"
      ]
     },
     "execution_count": 41,
     "metadata": {},
     "output_type": "execute_result"
    }
   ],
   "source": [
    "df_dep_t"
   ]
  },
  {
   "cell_type": "code",
   "execution_count": 42,
   "id": "55853ada",
   "metadata": {},
   "outputs": [],
   "source": [
    "# Take the first row of df_dep_t for the header\n",
    "new_header = df_dep_t.iloc[0]"
   ]
  },
  {
   "cell_type": "code",
   "execution_count": 43,
   "id": "a22a0b84",
   "metadata": {},
   "outputs": [
    {
     "data": {
      "text/plain": [
       "0    department\n",
       "Name: department_id, dtype: object"
      ]
     },
     "execution_count": 43,
     "metadata": {},
     "output_type": "execute_result"
    }
   ],
   "source": [
    "new_header"
   ]
  },
  {
   "cell_type": "code",
   "execution_count": 44,
   "id": "24fdb6b1",
   "metadata": {},
   "outputs": [],
   "source": [
    "# Take the data under the header row for a new df\n",
    "df_dep_t_new = df_dep_t[1:]"
   ]
  },
  {
   "cell_type": "code",
   "execution_count": 45,
   "id": "8d23226c",
   "metadata": {},
   "outputs": [
    {
     "data": {
      "text/html": [
       "<div>\n",
       "<style scoped>\n",
       "    .dataframe tbody tr th:only-of-type {\n",
       "        vertical-align: middle;\n",
       "    }\n",
       "\n",
       "    .dataframe tbody tr th {\n",
       "        vertical-align: top;\n",
       "    }\n",
       "\n",
       "    .dataframe thead th {\n",
       "        text-align: right;\n",
       "    }\n",
       "</style>\n",
       "<table border=\"1\" class=\"dataframe\">\n",
       "  <thead>\n",
       "    <tr style=\"text-align: right;\">\n",
       "      <th></th>\n",
       "      <th>0</th>\n",
       "    </tr>\n",
       "  </thead>\n",
       "  <tbody>\n",
       "    <tr>\n",
       "      <th>1</th>\n",
       "      <td>frozen</td>\n",
       "    </tr>\n",
       "    <tr>\n",
       "      <th>2</th>\n",
       "      <td>other</td>\n",
       "    </tr>\n",
       "    <tr>\n",
       "      <th>3</th>\n",
       "      <td>bakery</td>\n",
       "    </tr>\n",
       "    <tr>\n",
       "      <th>4</th>\n",
       "      <td>produce</td>\n",
       "    </tr>\n",
       "    <tr>\n",
       "      <th>5</th>\n",
       "      <td>alcohol</td>\n",
       "    </tr>\n",
       "    <tr>\n",
       "      <th>6</th>\n",
       "      <td>international</td>\n",
       "    </tr>\n",
       "    <tr>\n",
       "      <th>7</th>\n",
       "      <td>beverages</td>\n",
       "    </tr>\n",
       "    <tr>\n",
       "      <th>8</th>\n",
       "      <td>pets</td>\n",
       "    </tr>\n",
       "    <tr>\n",
       "      <th>9</th>\n",
       "      <td>dry goods pasta</td>\n",
       "    </tr>\n",
       "    <tr>\n",
       "      <th>10</th>\n",
       "      <td>bulk</td>\n",
       "    </tr>\n",
       "    <tr>\n",
       "      <th>11</th>\n",
       "      <td>personal care</td>\n",
       "    </tr>\n",
       "    <tr>\n",
       "      <th>12</th>\n",
       "      <td>meat seafood</td>\n",
       "    </tr>\n",
       "    <tr>\n",
       "      <th>13</th>\n",
       "      <td>pantry</td>\n",
       "    </tr>\n",
       "    <tr>\n",
       "      <th>14</th>\n",
       "      <td>breakfast</td>\n",
       "    </tr>\n",
       "    <tr>\n",
       "      <th>15</th>\n",
       "      <td>canned goods</td>\n",
       "    </tr>\n",
       "    <tr>\n",
       "      <th>16</th>\n",
       "      <td>dairy eggs</td>\n",
       "    </tr>\n",
       "    <tr>\n",
       "      <th>17</th>\n",
       "      <td>household</td>\n",
       "    </tr>\n",
       "    <tr>\n",
       "      <th>18</th>\n",
       "      <td>babies</td>\n",
       "    </tr>\n",
       "    <tr>\n",
       "      <th>19</th>\n",
       "      <td>snacks</td>\n",
       "    </tr>\n",
       "    <tr>\n",
       "      <th>20</th>\n",
       "      <td>deli</td>\n",
       "    </tr>\n",
       "    <tr>\n",
       "      <th>21</th>\n",
       "      <td>missing</td>\n",
       "    </tr>\n",
       "  </tbody>\n",
       "</table>\n",
       "</div>"
      ],
      "text/plain": [
       "                  0\n",
       "1            frozen\n",
       "2             other\n",
       "3            bakery\n",
       "4           produce\n",
       "5           alcohol\n",
       "6     international\n",
       "7         beverages\n",
       "8              pets\n",
       "9   dry goods pasta\n",
       "10             bulk\n",
       "11    personal care\n",
       "12     meat seafood\n",
       "13           pantry\n",
       "14        breakfast\n",
       "15     canned goods\n",
       "16       dairy eggs\n",
       "17        household\n",
       "18           babies\n",
       "19           snacks\n",
       "20             deli\n",
       "21          missing"
      ]
     },
     "execution_count": 45,
     "metadata": {},
     "output_type": "execute_result"
    }
   ],
   "source": [
    "df_dep_t_new"
   ]
  },
  {
   "cell_type": "code",
   "execution_count": 46,
   "id": "9979bbd5",
   "metadata": {},
   "outputs": [],
   "source": [
    "df_dep_t_new.columns = new_header # set the header row as the df header"
   ]
  },
  {
   "cell_type": "code",
   "execution_count": 47,
   "id": "03ffc943",
   "metadata": {},
   "outputs": [
    {
     "data": {
      "text/html": [
       "<div>\n",
       "<style scoped>\n",
       "    .dataframe tbody tr th:only-of-type {\n",
       "        vertical-align: middle;\n",
       "    }\n",
       "\n",
       "    .dataframe tbody tr th {\n",
       "        vertical-align: top;\n",
       "    }\n",
       "\n",
       "    .dataframe thead th {\n",
       "        text-align: right;\n",
       "    }\n",
       "</style>\n",
       "<table border=\"1\" class=\"dataframe\">\n",
       "  <thead>\n",
       "    <tr style=\"text-align: right;\">\n",
       "      <th>department_id</th>\n",
       "      <th>department</th>\n",
       "    </tr>\n",
       "  </thead>\n",
       "  <tbody>\n",
       "    <tr>\n",
       "      <th>1</th>\n",
       "      <td>frozen</td>\n",
       "    </tr>\n",
       "    <tr>\n",
       "      <th>2</th>\n",
       "      <td>other</td>\n",
       "    </tr>\n",
       "    <tr>\n",
       "      <th>3</th>\n",
       "      <td>bakery</td>\n",
       "    </tr>\n",
       "    <tr>\n",
       "      <th>4</th>\n",
       "      <td>produce</td>\n",
       "    </tr>\n",
       "    <tr>\n",
       "      <th>5</th>\n",
       "      <td>alcohol</td>\n",
       "    </tr>\n",
       "    <tr>\n",
       "      <th>6</th>\n",
       "      <td>international</td>\n",
       "    </tr>\n",
       "    <tr>\n",
       "      <th>7</th>\n",
       "      <td>beverages</td>\n",
       "    </tr>\n",
       "    <tr>\n",
       "      <th>8</th>\n",
       "      <td>pets</td>\n",
       "    </tr>\n",
       "    <tr>\n",
       "      <th>9</th>\n",
       "      <td>dry goods pasta</td>\n",
       "    </tr>\n",
       "    <tr>\n",
       "      <th>10</th>\n",
       "      <td>bulk</td>\n",
       "    </tr>\n",
       "    <tr>\n",
       "      <th>11</th>\n",
       "      <td>personal care</td>\n",
       "    </tr>\n",
       "    <tr>\n",
       "      <th>12</th>\n",
       "      <td>meat seafood</td>\n",
       "    </tr>\n",
       "    <tr>\n",
       "      <th>13</th>\n",
       "      <td>pantry</td>\n",
       "    </tr>\n",
       "    <tr>\n",
       "      <th>14</th>\n",
       "      <td>breakfast</td>\n",
       "    </tr>\n",
       "    <tr>\n",
       "      <th>15</th>\n",
       "      <td>canned goods</td>\n",
       "    </tr>\n",
       "    <tr>\n",
       "      <th>16</th>\n",
       "      <td>dairy eggs</td>\n",
       "    </tr>\n",
       "    <tr>\n",
       "      <th>17</th>\n",
       "      <td>household</td>\n",
       "    </tr>\n",
       "    <tr>\n",
       "      <th>18</th>\n",
       "      <td>babies</td>\n",
       "    </tr>\n",
       "    <tr>\n",
       "      <th>19</th>\n",
       "      <td>snacks</td>\n",
       "    </tr>\n",
       "    <tr>\n",
       "      <th>20</th>\n",
       "      <td>deli</td>\n",
       "    </tr>\n",
       "    <tr>\n",
       "      <th>21</th>\n",
       "      <td>missing</td>\n",
       "    </tr>\n",
       "  </tbody>\n",
       "</table>\n",
       "</div>"
      ],
      "text/plain": [
       "department_id       department\n",
       "1                       frozen\n",
       "2                        other\n",
       "3                       bakery\n",
       "4                      produce\n",
       "5                      alcohol\n",
       "6                international\n",
       "7                    beverages\n",
       "8                         pets\n",
       "9              dry goods pasta\n",
       "10                        bulk\n",
       "11               personal care\n",
       "12                meat seafood\n",
       "13                      pantry\n",
       "14                   breakfast\n",
       "15                canned goods\n",
       "16                  dairy eggs\n",
       "17                   household\n",
       "18                      babies\n",
       "19                      snacks\n",
       "20                        deli\n",
       "21                     missing"
      ]
     },
     "execution_count": 47,
     "metadata": {},
     "output_type": "execute_result"
    }
   ],
   "source": [
    "df_dep_t_new"
   ]
  },
  {
   "cell_type": "markdown",
   "id": "494872a2",
   "metadata": {},
   "source": [
    "## Creating Profile based on period of day and customer's income"
   ]
  },
  {
   "cell_type": "code",
   "execution_count": 48,
   "id": "3d1d8330",
   "metadata": {},
   "outputs": [],
   "source": [
    "# Creating customer_profile based on busiest_period_of_day and customer_profile_income\n",
    "df_cop.loc[(df_cop['busiest_period_of_day'] == 'Most orders') & (df_cop['customer_profile_income'] == 'Low-class income earner'), 'Customer_income_period'] = 'Low-class most orders'\n",
    "df_cop.loc[(df_cop['busiest_period_of_day'] == 'Most orders') & (df_cop['customer_profile_income'] == 'Middle-class income earner'), 'Customer_income_period'] = 'Middle-class most orders'\n",
    "df_cop.loc[(df_cop['busiest_period_of_day'] == 'Most orders') & (df_cop['customer_profile_income'] == 'High-class income earner'), 'Customer_income_period'] = 'High-class most orders'\n",
    "df_cop.loc[(df_cop['busiest_period_of_day'] == 'Average orders') & (df_cop['customer_profile_income'] == 'Low-class income earner'), 'Customer_income_period'] = 'Low-class average orders'\n",
    "df_cop.loc[(df_cop['busiest_period_of_day'] == 'Average orders') & (df_cop['customer_profile_income'] == 'Middle-class income earner'), 'Customer_income_period'] = 'Middle-class average orders'\n",
    "df_cop.loc[(df_cop['busiest_period_of_day'] == 'Average orders') & (df_cop['customer_profile_income'] == 'High-class income earner'), 'Customer_income_period'] = 'High-class average orders'\n",
    "df_cop.loc[(df_cop['busiest_period_of_day'] == 'Fewest orders') & (df_cop['customer_profile_income'] == 'Low-class income earner'), 'Customer_income_period'] = 'Low-class fewest orders'\n",
    "df_cop.loc[(df_cop['busiest_period_of_day'] == 'Fewest orders') & (df_cop['customer_profile_income'] == 'Middle-class income earner'), 'Customer_income_period'] = 'Middle-class fewest orders'\n",
    "df_cop.loc[(df_cop['busiest_period_of_day'] == 'Fewest orders') & (df_cop['customer_profile_income'] == 'High-class income earner'), 'Customer_income_period'] = 'High-class fewest orders'"
   ]
  },
  {
   "cell_type": "code",
   "execution_count": 49,
   "id": "4ea89b9a",
   "metadata": {},
   "outputs": [
    {
     "data": {
      "text/plain": [
       "Customer_income_period\n",
       "Middle-class most orders       15704124\n",
       "Middle-class average orders     7401099\n",
       "Middle-class fewest orders       952709\n",
       "High-class most orders           137056\n",
       "Low-class most orders            102828\n",
       "High-class average orders         63396\n",
       "Low-class average orders          39293\n",
       "High-class fewest orders           8794\n",
       "Low-class fewest orders            5578\n",
       "Name: count, dtype: int64"
      ]
     },
     "execution_count": 49,
     "metadata": {},
     "output_type": "execute_result"
    }
   ],
   "source": [
    "# Checking for frequency of customer_income_period\n",
    "df_cop['Customer_income_period'].value_counts()"
   ]
  },
  {
   "cell_type": "code",
   "execution_count": 50,
   "id": "3e7b734f",
   "metadata": {},
   "outputs": [
    {
     "data": {
      "image/png": "[encoded data removed]",
      "text/plain": [
       "<Figure size 640x480 with 1 Axes>"
      ]
     },
     "metadata": {},
     "output_type": "display_data"
    }
   ],
   "source": [
    "# Creating chart for customer_income_period\n",
    "customer_income_period_bar = df_cop['Customer_income_period'].value_counts().plot.barh()\n",
    "plt.title ('Customer Profile Based on Income & Period of Day')\n",
    "plt.ylabel ('Class of orders')\n",
    "plt.tight_layout()"
   ]
  },
  {
   "cell_type": "code",
   "execution_count": 51,
   "id": "f00a3560",
   "metadata": {},
   "outputs": [],
   "source": [
    "# Export chart for customer_income_period_bar as customer_income_period.png\n",
    "customer_income_period_bar.figure.savefig(os.path.join(path, '04 Analysis', 'Visualizations', 'customer_income_period.png'))"
   ]
  },
  {
   "cell_type": "markdown",
   "id": "e0cc603f",
   "metadata": {},
   "source": [
    "# 06. Aggregating the max, mean, and min variables on a customer-profile level for usage frequency and expenditure."
   ]
  },
  {
   "cell_type": "code",
   "execution_count": 52,
   "id": "f45f6890",
   "metadata": {},
   "outputs": [],
   "source": [
    "# Aggregating the max, mean, and min on customer_family profile for expenditure\n",
    "df_cop_fam_price = df_cop.groupby(['customer_profile_1']).agg({'prices': ['mean', 'min', 'max']})"
   ]
  },
  {
   "cell_type": "code",
   "execution_count": 53,
   "id": "963c97d8",
   "metadata": {},
   "outputs": [
    {
     "data": {
      "text/html": [
       "<div>\n",
       "<style scoped>\n",
       "    .dataframe tbody tr th:only-of-type {\n",
       "        vertical-align: middle;\n",
       "    }\n",
       "\n",
       "    .dataframe tbody tr th {\n",
       "        vertical-align: top;\n",
       "    }\n",
       "\n",
       "    .dataframe thead tr th {\n",
       "        text-align: left;\n",
       "    }\n",
       "\n",
       "    .dataframe thead tr:last-of-type th {\n",
       "        text-align: right;\n",
       "    }\n",
       "</style>\n",
       "<table border=\"1\" class=\"dataframe\">\n",
       "  <thead>\n",
       "    <tr>\n",
       "      <th></th>\n",
       "      <th colspan=\"3\" halign=\"left\">prices</th>\n",
       "    </tr>\n",
       "    <tr>\n",
       "      <th></th>\n",
       "      <th>mean</th>\n",
       "      <th>min</th>\n",
       "      <th>max</th>\n",
       "    </tr>\n",
       "    <tr>\n",
       "      <th>customer_profile_1</th>\n",
       "      <th></th>\n",
       "      <th></th>\n",
       "      <th></th>\n",
       "    </tr>\n",
       "  </thead>\n",
       "  <tbody>\n",
       "    <tr>\n",
       "      <th>Married elderly parent</th>\n",
       "      <td>11.682477</td>\n",
       "      <td>1.0</td>\n",
       "      <td>99999.0</td>\n",
       "    </tr>\n",
       "    <tr>\n",
       "      <th>Married middle-aged parent</th>\n",
       "      <td>11.563919</td>\n",
       "      <td>1.0</td>\n",
       "      <td>99999.0</td>\n",
       "    </tr>\n",
       "    <tr>\n",
       "      <th>Married young parent</th>\n",
       "      <td>12.317487</td>\n",
       "      <td>1.0</td>\n",
       "      <td>99999.0</td>\n",
       "    </tr>\n",
       "    <tr>\n",
       "      <th>Single elderly adult</th>\n",
       "      <td>11.357794</td>\n",
       "      <td>1.0</td>\n",
       "      <td>99999.0</td>\n",
       "    </tr>\n",
       "    <tr>\n",
       "      <th>Single middle-aged adult</th>\n",
       "      <td>12.714372</td>\n",
       "      <td>1.0</td>\n",
       "      <td>99999.0</td>\n",
       "    </tr>\n",
       "    <tr>\n",
       "      <th>Single young adult</th>\n",
       "      <td>12.071620</td>\n",
       "      <td>1.0</td>\n",
       "      <td>99999.0</td>\n",
       "    </tr>\n",
       "    <tr>\n",
       "      <th>Single young dependent</th>\n",
       "      <td>10.699303</td>\n",
       "      <td>1.0</td>\n",
       "      <td>99999.0</td>\n",
       "    </tr>\n",
       "  </tbody>\n",
       "</table>\n",
       "</div>"
      ],
      "text/plain": [
       "                               prices              \n",
       "                                 mean  min      max\n",
       "customer_profile_1                                 \n",
       "Married elderly parent      11.682477  1.0  99999.0\n",
       "Married middle-aged parent  11.563919  1.0  99999.0\n",
       "Married young parent        12.317487  1.0  99999.0\n",
       "Single elderly adult        11.357794  1.0  99999.0\n",
       "Single middle-aged adult    12.714372  1.0  99999.0\n",
       "Single young adult          12.071620  1.0  99999.0\n",
       "Single young dependent      10.699303  1.0  99999.0"
      ]
     },
     "execution_count": 53,
     "metadata": {},
     "output_type": "execute_result"
    }
   ],
   "source": [
    "df_cop_fam_price"
   ]
  },
  {
   "cell_type": "code",
   "execution_count": 56,
   "id": "e3a65358",
   "metadata": {},
   "outputs": [],
   "source": [
    "# Aggregating the max, mean, and min on customer_family profile for frequency\n",
    "df_cop_fam_freq = df_cop.groupby(['customer_profile_1']).agg({'order_number': ['mean', 'min', 'max']})"
   ]
  },
  {
   "cell_type": "code",
   "execution_count": 57,
   "id": "639b9a77",
   "metadata": {},
   "outputs": [
    {
     "data": {
      "text/html": [
       "<div>\n",
       "<style scoped>\n",
       "    .dataframe tbody tr th:only-of-type {\n",
       "        vertical-align: middle;\n",
       "    }\n",
       "\n",
       "    .dataframe tbody tr th {\n",
       "        vertical-align: top;\n",
       "    }\n",
       "\n",
       "    .dataframe thead tr th {\n",
       "        text-align: left;\n",
       "    }\n",
       "\n",
       "    .dataframe thead tr:last-of-type th {\n",
       "        text-align: right;\n",
       "    }\n",
       "</style>\n",
       "<table border=\"1\" class=\"dataframe\">\n",
       "  <thead>\n",
       "    <tr>\n",
       "      <th></th>\n",
       "      <th colspan=\"3\" halign=\"left\">order_number</th>\n",
       "    </tr>\n",
       "    <tr>\n",
       "      <th></th>\n",
       "      <th>mean</th>\n",
       "      <th>min</th>\n",
       "      <th>max</th>\n",
       "    </tr>\n",
       "    <tr>\n",
       "      <th>customer_profile_1</th>\n",
       "      <th></th>\n",
       "      <th></th>\n",
       "      <th></th>\n",
       "    </tr>\n",
       "  </thead>\n",
       "  <tbody>\n",
       "    <tr>\n",
       "      <th>Married elderly parent</th>\n",
       "      <td>21.870894</td>\n",
       "      <td>5</td>\n",
       "      <td>99</td>\n",
       "    </tr>\n",
       "    <tr>\n",
       "      <th>Married middle-aged parent</th>\n",
       "      <td>21.835679</td>\n",
       "      <td>5</td>\n",
       "      <td>99</td>\n",
       "    </tr>\n",
       "    <tr>\n",
       "      <th>Married young parent</th>\n",
       "      <td>21.961333</td>\n",
       "      <td>5</td>\n",
       "      <td>99</td>\n",
       "    </tr>\n",
       "    <tr>\n",
       "      <th>Single elderly adult</th>\n",
       "      <td>22.119075</td>\n",
       "      <td>5</td>\n",
       "      <td>99</td>\n",
       "    </tr>\n",
       "    <tr>\n",
       "      <th>Single middle-aged adult</th>\n",
       "      <td>22.279378</td>\n",
       "      <td>5</td>\n",
       "      <td>99</td>\n",
       "    </tr>\n",
       "    <tr>\n",
       "      <th>Single young adult</th>\n",
       "      <td>21.913576</td>\n",
       "      <td>5</td>\n",
       "      <td>99</td>\n",
       "    </tr>\n",
       "    <tr>\n",
       "      <th>Single young dependent</th>\n",
       "      <td>22.102311</td>\n",
       "      <td>5</td>\n",
       "      <td>99</td>\n",
       "    </tr>\n",
       "  </tbody>\n",
       "</table>\n",
       "</div>"
      ],
      "text/plain": [
       "                           order_number        \n",
       "                                   mean min max\n",
       "customer_profile_1                             \n",
       "Married elderly parent        21.870894   5  99\n",
       "Married middle-aged parent    21.835679   5  99\n",
       "Married young parent          21.961333   5  99\n",
       "Single elderly adult          22.119075   5  99\n",
       "Single middle-aged adult      22.279378   5  99\n",
       "Single young adult            21.913576   5  99\n",
       "Single young dependent        22.102311   5  99"
      ]
     },
     "execution_count": 57,
     "metadata": {},
     "output_type": "execute_result"
    }
   ],
   "source": [
    "df_cop_fam_freq"
   ]
  },
  {
   "cell_type": "code",
   "execution_count": 59,
   "id": "fcbd9973",
   "metadata": {},
   "outputs": [],
   "source": [
    "# Crosstabing  'Price' with the column 'order_frequency_flag' to see whether there is a difference\n",
    "customer_spending_habit_price = pd.crosstab(df_cop['prices'], df_cop['order_frequency_flag'], dropna = False)"
   ]
  },
  {
   "cell_type": "code",
   "execution_count": 60,
   "id": "75b0533f",
   "metadata": {},
   "outputs": [
    {
     "data": {
      "text/html": [
       "<div>\n",
       "<style scoped>\n",
       "    .dataframe tbody tr th:only-of-type {\n",
       "        vertical-align: middle;\n",
       "    }\n",
       "\n",
       "    .dataframe tbody tr th {\n",
       "        vertical-align: top;\n",
       "    }\n",
       "\n",
       "    .dataframe thead th {\n",
       "        text-align: right;\n",
       "    }\n",
       "</style>\n",
       "<table border=\"1\" class=\"dataframe\">\n",
       "  <thead>\n",
       "    <tr style=\"text-align: right;\">\n",
       "      <th>order_frequency_flag</th>\n",
       "      <th>Frequent customer</th>\n",
       "      <th>Non-frequent customer</th>\n",
       "      <th>Regular customer</th>\n",
       "    </tr>\n",
       "    <tr>\n",
       "      <th>prices</th>\n",
       "      <th></th>\n",
       "      <th></th>\n",
       "      <th></th>\n",
       "    </tr>\n",
       "  </thead>\n",
       "  <tbody>\n",
       "    <tr>\n",
       "      <th>1.0</th>\n",
       "      <td>62122</td>\n",
       "      <td>5556</td>\n",
       "      <td>18345</td>\n",
       "    </tr>\n",
       "    <tr>\n",
       "      <th>1.1</th>\n",
       "      <td>137259</td>\n",
       "      <td>10913</td>\n",
       "      <td>36222</td>\n",
       "    </tr>\n",
       "    <tr>\n",
       "      <th>1.2</th>\n",
       "      <td>131130</td>\n",
       "      <td>13637</td>\n",
       "      <td>41049</td>\n",
       "    </tr>\n",
       "    <tr>\n",
       "      <th>1.3</th>\n",
       "      <td>241729</td>\n",
       "      <td>18903</td>\n",
       "      <td>62770</td>\n",
       "    </tr>\n",
       "    <tr>\n",
       "      <th>1.4</th>\n",
       "      <td>223850</td>\n",
       "      <td>18520</td>\n",
       "      <td>58135</td>\n",
       "    </tr>\n",
       "    <tr>\n",
       "      <th>...</th>\n",
       "      <td>...</td>\n",
       "      <td>...</td>\n",
       "      <td>...</td>\n",
       "    </tr>\n",
       "    <tr>\n",
       "      <th>24.8</th>\n",
       "      <td>208</td>\n",
       "      <td>20</td>\n",
       "      <td>55</td>\n",
       "    </tr>\n",
       "    <tr>\n",
       "      <th>24.9</th>\n",
       "      <td>2876</td>\n",
       "      <td>280</td>\n",
       "      <td>1008</td>\n",
       "    </tr>\n",
       "    <tr>\n",
       "      <th>25.0</th>\n",
       "      <td>7293</td>\n",
       "      <td>676</td>\n",
       "      <td>2165</td>\n",
       "    </tr>\n",
       "    <tr>\n",
       "      <th>14900.0</th>\n",
       "      <td>2201</td>\n",
       "      <td>237</td>\n",
       "      <td>764</td>\n",
       "    </tr>\n",
       "    <tr>\n",
       "      <th>99999.0</th>\n",
       "      <td>359</td>\n",
       "      <td>34</td>\n",
       "      <td>116</td>\n",
       "    </tr>\n",
       "  </tbody>\n",
       "</table>\n",
       "<p>242 rows × 3 columns</p>\n",
       "</div>"
      ],
      "text/plain": [
       "order_frequency_flag  Frequent customer  Non-frequent customer  \\\n",
       "prices                                                           \n",
       "1.0                               62122                   5556   \n",
       "1.1                              137259                  10913   \n",
       "1.2                              131130                  13637   \n",
       "1.3                              241729                  18903   \n",
       "1.4                              223850                  18520   \n",
       "...                                 ...                    ...   \n",
       "24.8                                208                     20   \n",
       "24.9                               2876                    280   \n",
       "25.0                               7293                    676   \n",
       "14900.0                            2201                    237   \n",
       "99999.0                             359                     34   \n",
       "\n",
       "order_frequency_flag  Regular customer  \n",
       "prices                                  \n",
       "1.0                              18345  \n",
       "1.1                              36222  \n",
       "1.2                              41049  \n",
       "1.3                              62770  \n",
       "1.4                              58135  \n",
       "...                                ...  \n",
       "24.8                                55  \n",
       "24.9                              1008  \n",
       "25.0                              2165  \n",
       "14900.0                            764  \n",
       "99999.0                            116  \n",
       "\n",
       "[242 rows x 3 columns]"
      ]
     },
     "execution_count": 60,
     "metadata": {},
     "output_type": "execute_result"
    }
   ],
   "source": [
    "customer_spending_habit_price"
   ]
  },
  {
   "cell_type": "markdown",
   "id": "6cdb8208",
   "metadata": {},
   "source": [
    "# 07. Comparing profiles with regions"
   ]
  },
  {
   "cell_type": "markdown",
   "id": "39720851",
   "metadata": {},
   "source": [
    "## Customer profile based on age and family status"
   ]
  },
  {
   "cell_type": "code",
   "execution_count": 61,
   "id": "7aab05b3",
   "metadata": {},
   "outputs": [],
   "source": [
    "# Crosstab 'customer_profile_1' with 'Region'\n",
    "regional_family_status = pd.crosstab(df_cop['customer_profile_1'], df_cop['Region'], dropna = False)"
   ]
  },
  {
   "cell_type": "code",
   "execution_count": 62,
   "id": "53c45e51",
   "metadata": {},
   "outputs": [
    {
     "data": {
      "text/html": [
       "<div>\n",
       "<style scoped>\n",
       "    .dataframe tbody tr th:only-of-type {\n",
       "        vertical-align: middle;\n",
       "    }\n",
       "\n",
       "    .dataframe tbody tr th {\n",
       "        vertical-align: top;\n",
       "    }\n",
       "\n",
       "    .dataframe thead th {\n",
       "        text-align: right;\n",
       "    }\n",
       "</style>\n",
       "<table border=\"1\" class=\"dataframe\">\n",
       "  <thead>\n",
       "    <tr style=\"text-align: right;\">\n",
       "      <th>Region</th>\n",
       "      <th>Midwest</th>\n",
       "      <th>Northeast</th>\n",
       "      <th>South</th>\n",
       "      <th>West</th>\n",
       "    </tr>\n",
       "    <tr>\n",
       "      <th>customer_profile_1</th>\n",
       "      <th></th>\n",
       "      <th></th>\n",
       "      <th></th>\n",
       "      <th></th>\n",
       "    </tr>\n",
       "  </thead>\n",
       "  <tbody>\n",
       "    <tr>\n",
       "      <th>Married elderly parent</th>\n",
       "      <td>1438890</td>\n",
       "      <td>1109306</td>\n",
       "      <td>2081415</td>\n",
       "      <td>1611775</td>\n",
       "    </tr>\n",
       "    <tr>\n",
       "      <th>Married middle-aged parent</th>\n",
       "      <td>1365644</td>\n",
       "      <td>1029434</td>\n",
       "      <td>1870233</td>\n",
       "      <td>1476138</td>\n",
       "    </tr>\n",
       "    <tr>\n",
       "      <th>Married young parent</th>\n",
       "      <td>1194281</td>\n",
       "      <td>906462</td>\n",
       "      <td>1739883</td>\n",
       "      <td>1315015</td>\n",
       "    </tr>\n",
       "    <tr>\n",
       "      <th>Single elderly adult</th>\n",
       "      <td>485162</td>\n",
       "      <td>380360</td>\n",
       "      <td>693442</td>\n",
       "      <td>530248</td>\n",
       "    </tr>\n",
       "    <tr>\n",
       "      <th>Single middle-aged adult</th>\n",
       "      <td>466694</td>\n",
       "      <td>316721</td>\n",
       "      <td>633230</td>\n",
       "      <td>507210</td>\n",
       "    </tr>\n",
       "    <tr>\n",
       "      <th>Single young adult</th>\n",
       "      <td>485105</td>\n",
       "      <td>368057</td>\n",
       "      <td>711662</td>\n",
       "      <td>527111</td>\n",
       "    </tr>\n",
       "    <tr>\n",
       "      <th>Single young dependent</th>\n",
       "      <td>275980</td>\n",
       "      <td>204931</td>\n",
       "      <td>399221</td>\n",
       "      <td>291267</td>\n",
       "    </tr>\n",
       "  </tbody>\n",
       "</table>\n",
       "</div>"
      ],
      "text/plain": [
       "Region                      Midwest  Northeast    South     West\n",
       "customer_profile_1                                              \n",
       "Married elderly parent      1438890    1109306  2081415  1611775\n",
       "Married middle-aged parent  1365644    1029434  1870233  1476138\n",
       "Married young parent        1194281     906462  1739883  1315015\n",
       "Single elderly adult         485162     380360   693442   530248\n",
       "Single middle-aged adult     466694     316721   633230   507210\n",
       "Single young adult           485105     368057   711662   527111\n",
       "Single young dependent       275980     204931   399221   291267"
      ]
     },
     "execution_count": 62,
     "metadata": {},
     "output_type": "execute_result"
    }
   ],
   "source": [
    "# Check output\n",
    "regional_family_status"
   ]
  },
  {
   "cell_type": "code",
   "execution_count": 63,
   "id": "6c8fe887",
   "metadata": {},
   "outputs": [
    {
     "data": {
      "image/png": "[encoded data removed]",
      "text/plain": [
       "<Figure size 640x480 with 1 Axes>"
      ]
     },
     "metadata": {},
     "output_type": "display_data"
    }
   ],
   "source": [
    "# Creating a bar chart to show the comparison of customer's family status across regions\n",
    "regional_family_status_bar = regional_family_status.plot.barh(stacked = True)\n",
    "plt.title ('Customer Profile - Family Status across Regions', fontsize = 10)\n",
    "plt.ylabel ('Family Status')\n",
    "plt.tight_layout()"
   ]
  },
  {
   "cell_type": "code",
   "execution_count": 64,
   "id": "c45458aa",
   "metadata": {},
   "outputs": [],
   "source": [
    "# Export chart\n",
    "regional_family_status_bar.figure.savefig(os.path.join(path, '04 Analysis', 'Visualizations', 'regional_family_status.png'))"
   ]
  },
  {
   "cell_type": "markdown",
   "id": "4ddeb379",
   "metadata": {},
   "source": [
    "## Customer profile based on income"
   ]
  },
  {
   "cell_type": "code",
   "execution_count": 65,
   "id": "be556161",
   "metadata": {},
   "outputs": [],
   "source": [
    "# Crosstab 'customer_profile_income' with 'Region'\n",
    "regional_customer_income = pd.crosstab(df_cop['customer_profile_income'], df_cop['Region'], dropna = False)"
   ]
  },
  {
   "cell_type": "code",
   "execution_count": 66,
   "id": "1cbc629f",
   "metadata": {},
   "outputs": [
    {
     "data": {
      "text/html": [
       "<div>\n",
       "<style scoped>\n",
       "    .dataframe tbody tr th:only-of-type {\n",
       "        vertical-align: middle;\n",
       "    }\n",
       "\n",
       "    .dataframe tbody tr th {\n",
       "        vertical-align: top;\n",
       "    }\n",
       "\n",
       "    .dataframe thead th {\n",
       "        text-align: right;\n",
       "    }\n",
       "</style>\n",
       "<table border=\"1\" class=\"dataframe\">\n",
       "  <thead>\n",
       "    <tr style=\"text-align: right;\">\n",
       "      <th>Region</th>\n",
       "      <th>Midwest</th>\n",
       "      <th>Northeast</th>\n",
       "      <th>South</th>\n",
       "      <th>West</th>\n",
       "    </tr>\n",
       "    <tr>\n",
       "      <th>customer_profile_income</th>\n",
       "      <th></th>\n",
       "      <th></th>\n",
       "      <th></th>\n",
       "      <th></th>\n",
       "    </tr>\n",
       "  </thead>\n",
       "  <tbody>\n",
       "    <tr>\n",
       "      <th>High-class income earner</th>\n",
       "      <td>53816</td>\n",
       "      <td>32752</td>\n",
       "      <td>67815</td>\n",
       "      <td>54863</td>\n",
       "    </tr>\n",
       "    <tr>\n",
       "      <th>Low-class income earner</th>\n",
       "      <td>41631</td>\n",
       "      <td>24708</td>\n",
       "      <td>49466</td>\n",
       "      <td>31894</td>\n",
       "    </tr>\n",
       "    <tr>\n",
       "      <th>Middle-class income earner</th>\n",
       "      <td>5616309</td>\n",
       "      <td>4257811</td>\n",
       "      <td>8011805</td>\n",
       "      <td>6172007</td>\n",
       "    </tr>\n",
       "  </tbody>\n",
       "</table>\n",
       "</div>"
      ],
      "text/plain": [
       "Region                      Midwest  Northeast    South     West\n",
       "customer_profile_income                                         \n",
       "High-class income earner      53816      32752    67815    54863\n",
       "Low-class income earner       41631      24708    49466    31894\n",
       "Middle-class income earner  5616309    4257811  8011805  6172007"
      ]
     },
     "execution_count": 66,
     "metadata": {},
     "output_type": "execute_result"
    }
   ],
   "source": [
    "# Checking output\n",
    "regional_customer_income"
   ]
  },
  {
   "cell_type": "code",
   "execution_count": 67,
   "id": "90e1b03f",
   "metadata": {},
   "outputs": [
    {
     "data": {
      "image/png": "[encoded data removed]",
      "text/plain": [
       "<Figure size 640x480 with 1 Axes>"
      ]
     },
     "metadata": {},
     "output_type": "display_data"
    }
   ],
   "source": [
    "#Creating chart\n",
    "regional_customer_income_chart = regional_customer_income.plot.barh()\n",
    "plt.title ('Customer Profile - Income across Regions', fontsize = 10)\n",
    "plt.ylabel ('Class of income')\n",
    "plt.tight_layout()"
   ]
  },
  {
   "cell_type": "code",
   "execution_count": 68,
   "id": "bb9e5953",
   "metadata": {},
   "outputs": [],
   "source": [
    "# Exporting chart\n",
    "regional_customer_income_chart.figure.savefig(os.path.join(path, '04 Analysis', 'Visualizations', 'regional_customer_income.png'))"
   ]
  },
  {
   "cell_type": "markdown",
   "id": "21e4c8f6",
   "metadata": {},
   "source": [
    "## Customer profile based on produce (department_id)"
   ]
  },
  {
   "cell_type": "code",
   "execution_count": 69,
   "id": "19f03c34",
   "metadata": {},
   "outputs": [],
   "source": [
    "# Checking relationship between department_id and customer_profile_income by crosstab\n",
    "customer_produce = pd.crosstab(df_cop['department_id'], df_cop['customer_profile_income'], dropna = False)"
   ]
  },
  {
   "cell_type": "code",
   "execution_count": 70,
   "id": "f720791c",
   "metadata": {},
   "outputs": [
    {
     "data": {
      "text/html": [
       "<div>\n",
       "<style scoped>\n",
       "    .dataframe tbody tr th:only-of-type {\n",
       "        vertical-align: middle;\n",
       "    }\n",
       "\n",
       "    .dataframe tbody tr th {\n",
       "        vertical-align: top;\n",
       "    }\n",
       "\n",
       "    .dataframe thead th {\n",
       "        text-align: right;\n",
       "    }\n",
       "</style>\n",
       "<table border=\"1\" class=\"dataframe\">\n",
       "  <thead>\n",
       "    <tr style=\"text-align: right;\">\n",
       "      <th>customer_profile_income</th>\n",
       "      <th>High-class income earner</th>\n",
       "      <th>Low-class income earner</th>\n",
       "      <th>Middle-class income earner</th>\n",
       "    </tr>\n",
       "    <tr>\n",
       "      <th>department_id</th>\n",
       "      <th></th>\n",
       "      <th></th>\n",
       "      <th></th>\n",
       "    </tr>\n",
       "  </thead>\n",
       "  <tbody>\n",
       "    <tr>\n",
       "      <th>1</th>\n",
       "      <td>15985</td>\n",
       "      <td>9360</td>\n",
       "      <td>1602269</td>\n",
       "    </tr>\n",
       "    <tr>\n",
       "      <th>2</th>\n",
       "      <td>379</td>\n",
       "      <td>231</td>\n",
       "      <td>26556</td>\n",
       "    </tr>\n",
       "    <tr>\n",
       "      <th>3</th>\n",
       "      <td>10299</td>\n",
       "      <td>4545</td>\n",
       "      <td>868486</td>\n",
       "    </tr>\n",
       "    <tr>\n",
       "      <th>4</th>\n",
       "      <td>40955</td>\n",
       "      <td>35132</td>\n",
       "      <td>7151004</td>\n",
       "    </tr>\n",
       "    <tr>\n",
       "      <th>5</th>\n",
       "      <td>5150</td>\n",
       "      <td>883</td>\n",
       "      <td>101939</td>\n",
       "    </tr>\n",
       "    <tr>\n",
       "      <th>6</th>\n",
       "      <td>1667</td>\n",
       "      <td>1013</td>\n",
       "      <td>195220</td>\n",
       "    </tr>\n",
       "    <tr>\n",
       "      <th>7</th>\n",
       "      <td>20705</td>\n",
       "      <td>18154</td>\n",
       "      <td>1997588</td>\n",
       "    </tr>\n",
       "    <tr>\n",
       "      <th>8</th>\n",
       "      <td>1544</td>\n",
       "      <td>343</td>\n",
       "      <td>70224</td>\n",
       "    </tr>\n",
       "    <tr>\n",
       "      <th>9</th>\n",
       "      <td>5611</td>\n",
       "      <td>2910</td>\n",
       "      <td>625204</td>\n",
       "    </tr>\n",
       "    <tr>\n",
       "      <th>10</th>\n",
       "      <td>18</td>\n",
       "      <td>270</td>\n",
       "      <td>27270</td>\n",
       "    </tr>\n",
       "    <tr>\n",
       "      <th>11</th>\n",
       "      <td>3262</td>\n",
       "      <td>1766</td>\n",
       "      <td>323452</td>\n",
       "    </tr>\n",
       "    <tr>\n",
       "      <th>12</th>\n",
       "      <td>4971</td>\n",
       "      <td>1149</td>\n",
       "      <td>517770</td>\n",
       "    </tr>\n",
       "    <tr>\n",
       "      <th>13</th>\n",
       "      <td>12993</td>\n",
       "      <td>6443</td>\n",
       "      <td>1365939</td>\n",
       "    </tr>\n",
       "    <tr>\n",
       "      <th>14</th>\n",
       "      <td>5363</td>\n",
       "      <td>3626</td>\n",
       "      <td>515956</td>\n",
       "    </tr>\n",
       "    <tr>\n",
       "      <th>15</th>\n",
       "      <td>7325</td>\n",
       "      <td>3035</td>\n",
       "      <td>777430</td>\n",
       "    </tr>\n",
       "    <tr>\n",
       "      <th>16</th>\n",
       "      <td>36579</td>\n",
       "      <td>21643</td>\n",
       "      <td>4062266</td>\n",
       "    </tr>\n",
       "    <tr>\n",
       "      <th>17</th>\n",
       "      <td>9463</td>\n",
       "      <td>3477</td>\n",
       "      <td>526409</td>\n",
       "    </tr>\n",
       "    <tr>\n",
       "      <th>18</th>\n",
       "      <td>1770</td>\n",
       "      <td>1171</td>\n",
       "      <td>333006</td>\n",
       "    </tr>\n",
       "    <tr>\n",
       "      <th>19</th>\n",
       "      <td>18940</td>\n",
       "      <td>27219</td>\n",
       "      <td>2140962</td>\n",
       "    </tr>\n",
       "    <tr>\n",
       "      <th>20</th>\n",
       "      <td>5985</td>\n",
       "      <td>4985</td>\n",
       "      <td>772041</td>\n",
       "    </tr>\n",
       "    <tr>\n",
       "      <th>21</th>\n",
       "      <td>282</td>\n",
       "      <td>344</td>\n",
       "      <td>56941</td>\n",
       "    </tr>\n",
       "  </tbody>\n",
       "</table>\n",
       "</div>"
      ],
      "text/plain": [
       "customer_profile_income  High-class income earner  Low-class income earner  \\\n",
       "department_id                                                                \n",
       "1                                           15985                     9360   \n",
       "2                                             379                      231   \n",
       "3                                           10299                     4545   \n",
       "4                                           40955                    35132   \n",
       "5                                            5150                      883   \n",
       "6                                            1667                     1013   \n",
       "7                                           20705                    18154   \n",
       "8                                            1544                      343   \n",
       "9                                            5611                     2910   \n",
       "10                                             18                      270   \n",
       "11                                           3262                     1766   \n",
       "12                                           4971                     1149   \n",
       "13                                          12993                     6443   \n",
       "14                                           5363                     3626   \n",
       "15                                           7325                     3035   \n",
       "16                                          36579                    21643   \n",
       "17                                           9463                     3477   \n",
       "18                                           1770                     1171   \n",
       "19                                          18940                    27219   \n",
       "20                                           5985                     4985   \n",
       "21                                            282                      344   \n",
       "\n",
       "customer_profile_income  Middle-class income earner  \n",
       "department_id                                        \n",
       "1                                           1602269  \n",
       "2                                             26556  \n",
       "3                                            868486  \n",
       "4                                           7151004  \n",
       "5                                            101939  \n",
       "6                                            195220  \n",
       "7                                           1997588  \n",
       "8                                             70224  \n",
       "9                                            625204  \n",
       "10                                            27270  \n",
       "11                                           323452  \n",
       "12                                           517770  \n",
       "13                                          1365939  \n",
       "14                                           515956  \n",
       "15                                           777430  \n",
       "16                                          4062266  \n",
       "17                                           526409  \n",
       "18                                           333006  \n",
       "19                                          2140962  \n",
       "20                                           772041  \n",
       "21                                            56941  "
      ]
     },
     "execution_count": 70,
     "metadata": {},
     "output_type": "execute_result"
    }
   ],
   "source": [
    "# Checking output\n",
    "customer_produce"
   ]
  },
  {
   "cell_type": "code",
   "execution_count": 71,
   "id": "aa2dc9e4",
   "metadata": {},
   "outputs": [
    {
     "data": {
      "image/png": "[encoded data removed]",
      "text/plain": [
       "<Figure size 640x480 with 1 Axes>"
      ]
     },
     "metadata": {},
     "output_type": "display_data"
    }
   ],
   "source": [
    "customer_produce = customer_produce.plot.bar()"
   ]
  },
  {
   "cell_type": "code",
   "execution_count": 72,
   "id": "45873fca",
   "metadata": {},
   "outputs": [],
   "source": [
    "# Exporting customer_produce\n",
    "customer_produce.figure.savefig(os.path.join(path, '04 Analysis', 'Visualizations', 'customer_income_produce.png'))"
   ]
  },
  {
   "cell_type": "code",
   "execution_count": 73,
   "id": "617876b7",
   "metadata": {},
   "outputs": [],
   "source": [
    "# Crosstab 'customer_profile_goods' with 'Region'\n",
    "regional_customer_produce = pd.crosstab(df_cop['customer_profile_goods'], df_cop['Region'], dropna = False)"
   ]
  },
  {
   "cell_type": "code",
   "execution_count": 74,
   "id": "708e8a2a",
   "metadata": {},
   "outputs": [
    {
     "data": {
      "text/html": [
       "<div>\n",
       "<style scoped>\n",
       "    .dataframe tbody tr th:only-of-type {\n",
       "        vertical-align: middle;\n",
       "    }\n",
       "\n",
       "    .dataframe tbody tr th {\n",
       "        vertical-align: top;\n",
       "    }\n",
       "\n",
       "    .dataframe thead th {\n",
       "        text-align: right;\n",
       "    }\n",
       "</style>\n",
       "<table border=\"1\" class=\"dataframe\">\n",
       "  <thead>\n",
       "    <tr style=\"text-align: right;\">\n",
       "      <th>Region</th>\n",
       "      <th>Midwest</th>\n",
       "      <th>Northeast</th>\n",
       "      <th>South</th>\n",
       "      <th>West</th>\n",
       "    </tr>\n",
       "    <tr>\n",
       "      <th>customer_profile_goods</th>\n",
       "      <th></th>\n",
       "      <th></th>\n",
       "      <th></th>\n",
       "      <th></th>\n",
       "    </tr>\n",
       "  </thead>\n",
       "  <tbody>\n",
       "    <tr>\n",
       "      <th>Family Least ordered</th>\n",
       "      <td>29843</td>\n",
       "      <td>23302</td>\n",
       "      <td>42697</td>\n",
       "      <td>32690</td>\n",
       "    </tr>\n",
       "    <tr>\n",
       "      <th>Family average ordered goods</th>\n",
       "      <td>522265</td>\n",
       "      <td>395735</td>\n",
       "      <td>747727</td>\n",
       "      <td>578829</td>\n",
       "    </tr>\n",
       "    <tr>\n",
       "      <th>Family most ordered goods</th>\n",
       "      <td>3446707</td>\n",
       "      <td>2626165</td>\n",
       "      <td>4901107</td>\n",
       "      <td>3791409</td>\n",
       "    </tr>\n",
       "    <tr>\n",
       "      <th>Individual Least ordered</th>\n",
       "      <td>10546</td>\n",
       "      <td>9074</td>\n",
       "      <td>14621</td>\n",
       "      <td>11661</td>\n",
       "    </tr>\n",
       "    <tr>\n",
       "      <th>Individual average ordered goods</th>\n",
       "      <td>189403</td>\n",
       "      <td>139840</td>\n",
       "      <td>262076</td>\n",
       "      <td>201291</td>\n",
       "    </tr>\n",
       "    <tr>\n",
       "      <th>Individual most ordered goods</th>\n",
       "      <td>1237012</td>\n",
       "      <td>916224</td>\n",
       "      <td>1761637</td>\n",
       "      <td>1351617</td>\n",
       "    </tr>\n",
       "  </tbody>\n",
       "</table>\n",
       "</div>"
      ],
      "text/plain": [
       "Region                            Midwest  Northeast    South     West\n",
       "customer_profile_goods                                                \n",
       "Family Least ordered                29843      23302    42697    32690\n",
       "Family average ordered goods       522265     395735   747727   578829\n",
       "Family most ordered goods         3446707    2626165  4901107  3791409\n",
       "Individual Least ordered            10546       9074    14621    11661\n",
       "Individual average ordered goods   189403     139840   262076   201291\n",
       "Individual most ordered goods     1237012     916224  1761637  1351617"
      ]
     },
     "execution_count": 74,
     "metadata": {},
     "output_type": "execute_result"
    }
   ],
   "source": [
    "# Checking output\n",
    "regional_customer_produce"
   ]
  },
  {
   "cell_type": "code",
   "execution_count": 75,
   "id": "c689851b",
   "metadata": {},
   "outputs": [
    {
     "data": {
      "image/png": "[encoded data removed]",
      "text/plain": [
       "<Figure size 640x480 with 1 Axes>"
      ]
     },
     "metadata": {},
     "output_type": "display_data"
    }
   ],
   "source": [
    "# Creating regional_customer_produce chart\n",
    "regional_customer_produce_bar =regional_customer_produce.plot.barh()\n",
    "plt.title ('Customer Profile - Ordered Goods across Regions', fontsize = 10)\n",
    "plt.ylabel ('ordered goods')\n",
    "plt.tight_layout()"
   ]
  },
  {
   "cell_type": "code",
   "execution_count": 76,
   "id": "13715e9c",
   "metadata": {},
   "outputs": [],
   "source": [
    "# Export regional_customer_produce Chart\n",
    "regional_customer_produce_bar.figure.savefig(os.path.join(path, '04 Analysis', 'Visualizations', 'regional_customer_produce.png'))"
   ]
  },
  {
   "cell_type": "markdown",
   "id": "846d0088",
   "metadata": {},
   "source": [
    "## Customer profile based on period of day and income"
   ]
  },
  {
   "cell_type": "code",
   "execution_count": 77,
   "id": "eeef96b6",
   "metadata": {},
   "outputs": [],
   "source": [
    "# Crosstab 'customer_income_period' with 'Region'\n",
    "regional_customer_income_period = pd.crosstab(df_cop['Customer_income_period'], df_cop['Region'], dropna = False)"
   ]
  },
  {
   "cell_type": "code",
   "execution_count": 78,
   "id": "08b46c49",
   "metadata": {},
   "outputs": [
    {
     "data": {
      "text/html": [
       "<div>\n",
       "<style scoped>\n",
       "    .dataframe tbody tr th:only-of-type {\n",
       "        vertical-align: middle;\n",
       "    }\n",
       "\n",
       "    .dataframe tbody tr th {\n",
       "        vertical-align: top;\n",
       "    }\n",
       "\n",
       "    .dataframe thead th {\n",
       "        text-align: right;\n",
       "    }\n",
       "</style>\n",
       "<table border=\"1\" class=\"dataframe\">\n",
       "  <thead>\n",
       "    <tr style=\"text-align: right;\">\n",
       "      <th>Region</th>\n",
       "      <th>Midwest</th>\n",
       "      <th>Northeast</th>\n",
       "      <th>South</th>\n",
       "      <th>West</th>\n",
       "    </tr>\n",
       "    <tr>\n",
       "      <th>Customer_income_period</th>\n",
       "      <th></th>\n",
       "      <th></th>\n",
       "      <th></th>\n",
       "      <th></th>\n",
       "    </tr>\n",
       "  </thead>\n",
       "  <tbody>\n",
       "    <tr>\n",
       "      <th>High-class average orders</th>\n",
       "      <td>16492</td>\n",
       "      <td>10273</td>\n",
       "      <td>20197</td>\n",
       "      <td>16434</td>\n",
       "    </tr>\n",
       "    <tr>\n",
       "      <th>High-class fewest orders</th>\n",
       "      <td>1811</td>\n",
       "      <td>804</td>\n",
       "      <td>4002</td>\n",
       "      <td>2177</td>\n",
       "    </tr>\n",
       "    <tr>\n",
       "      <th>High-class most orders</th>\n",
       "      <td>35513</td>\n",
       "      <td>21675</td>\n",
       "      <td>43616</td>\n",
       "      <td>36252</td>\n",
       "    </tr>\n",
       "    <tr>\n",
       "      <th>Low-class average orders</th>\n",
       "      <td>10032</td>\n",
       "      <td>6518</td>\n",
       "      <td>14653</td>\n",
       "      <td>8090</td>\n",
       "    </tr>\n",
       "    <tr>\n",
       "      <th>Low-class fewest orders</th>\n",
       "      <td>1283</td>\n",
       "      <td>1055</td>\n",
       "      <td>1900</td>\n",
       "      <td>1340</td>\n",
       "    </tr>\n",
       "    <tr>\n",
       "      <th>Low-class most orders</th>\n",
       "      <td>30316</td>\n",
       "      <td>17135</td>\n",
       "      <td>32913</td>\n",
       "      <td>22464</td>\n",
       "    </tr>\n",
       "    <tr>\n",
       "      <th>Middle-class average orders</th>\n",
       "      <td>1739753</td>\n",
       "      <td>1306900</td>\n",
       "      <td>2468282</td>\n",
       "      <td>1886164</td>\n",
       "    </tr>\n",
       "    <tr>\n",
       "      <th>Middle-class fewest orders</th>\n",
       "      <td>221292</td>\n",
       "      <td>172062</td>\n",
       "      <td>319369</td>\n",
       "      <td>239986</td>\n",
       "    </tr>\n",
       "    <tr>\n",
       "      <th>Middle-class most orders</th>\n",
       "      <td>3655264</td>\n",
       "      <td>2778849</td>\n",
       "      <td>5224154</td>\n",
       "      <td>4045857</td>\n",
       "    </tr>\n",
       "  </tbody>\n",
       "</table>\n",
       "</div>"
      ],
      "text/plain": [
       "Region                       Midwest  Northeast    South     West\n",
       "Customer_income_period                                           \n",
       "High-class average orders      16492      10273    20197    16434\n",
       "High-class fewest orders        1811        804     4002     2177\n",
       "High-class most orders         35513      21675    43616    36252\n",
       "Low-class average orders       10032       6518    14653     8090\n",
       "Low-class fewest orders         1283       1055     1900     1340\n",
       "Low-class most orders          30316      17135    32913    22464\n",
       "Middle-class average orders  1739753    1306900  2468282  1886164\n",
       "Middle-class fewest orders    221292     172062   319369   239986\n",
       "Middle-class most orders     3655264    2778849  5224154  4045857"
      ]
     },
     "execution_count": 78,
     "metadata": {},
     "output_type": "execute_result"
    }
   ],
   "source": [
    "# Checking output\n",
    "regional_customer_income_period"
   ]
  },
  {
   "cell_type": "code",
   "execution_count": 79,
   "id": "ef9c8cd5",
   "metadata": {},
   "outputs": [
    {
     "data": {
      "image/png": "[encoded data removed]",
      "text/plain": [
       "<Figure size 640x480 with 1 Axes>"
      ]
     },
     "metadata": {},
     "output_type": "display_data"
    }
   ],
   "source": [
    "# Creating chart for the regional_customer_income_period\n",
    "regional_customer_income_period_bar = regional_customer_income_period.plot.barh()\n",
    "plt.title ('Customer Profile - Income/Orders across Regions', fontsize = 10)\n",
    "plt.ylabel ('classes of orders')\n",
    "plt.tight_layout()"
   ]
  },
  {
   "cell_type": "code",
   "execution_count": 80,
   "id": "1db0c2bc",
   "metadata": {},
   "outputs": [],
   "source": [
    "# Exporting chart\n",
    "regional_customer_income_period_bar.figure.savefig(os.path.join(path, '04 Analysis', 'Visualizations', 'regional_customer_income_period.png'))"
   ]
  },
  {
   "cell_type": "markdown",
   "id": "dbee839d",
   "metadata": {},
   "source": [
    "# 08. Exporting df_cop as pickle file"
   ]
  },
  {
   "cell_type": "code",
   "execution_count": 81,
   "id": "619885e3",
   "metadata": {},
   "outputs": [],
   "source": [
    "# Export df_cop as customer_orders_products.pkl\n",
    "df_cop.to_pickle(os.path.join(path, '02 Data', 'Prepared Data', 'customer_orders_products.pkl'))"
   ]
  },
  {
   "cell_type": "code",
   "execution_count": null,
   "id": "e4c8aefe",
   "metadata": {},
   "outputs": [],
   "source": []
  }
 ],
 "metadata": {
  "kernelspec": {
   "display_name": "Python 3 (ipykernel)",
   "language": "python",
   "name": "python3"
  },
  "language_info": {
   "codemirror_mode": {
    "name": "ipython",
    "version": 3
   },
   "file_extension": ".py",
   "mimetype": "text/x-python",
   "name": "python",
   "nbconvert_exporter": "python",
   "pygments_lexer": "ipython3",
   "version": "3.11.4"
  }
 },
 "nbformat": 4,
 "nbformat_minor": 5
}
